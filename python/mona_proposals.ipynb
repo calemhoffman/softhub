{
  "nbformat": 4,
  "nbformat_minor": 0,
  "metadata": {
    "colab": {
      "name": "mona_proposals.ipynb",
      "provenance": [],
      "collapsed_sections": [
        "pzx_W4hnV8dq",
        "KWe-Nu82YpOr"
      ],
      "include_colab_link": true
    },
    "kernelspec": {
      "name": "python3",
      "display_name": "Python 3"
    }
  },
  "cells": [
    {
      "cell_type": "markdown",
      "metadata": {
        "id": "view-in-github",
        "colab_type": "text"
      },
      "source": [
        "<a href=\"https://colab.research.google.com/github/calemhoffman/softhub/blob/master/python/mona_proposals.ipynb\" target=\"_parent\"><img src=\"https://colab.research.google.com/assets/colab-badge.svg\" alt=\"Open In Colab\"/></a>"
      ]
    },
    {
      "cell_type": "markdown",
      "metadata": {
        "id": "pzx_W4hnV8dq"
      },
      "source": [
        "# Initialization"
      ]
    },
    {
      "cell_type": "code",
      "metadata": {
        "id": "QhudOU9oXaDW"
      },
      "source": [
        "import plotly.express as px\n",
        "import plotly.graph_objects as go\n",
        "from plotly.graph_objs import Scatter\n",
        "from plotly.subplots import make_subplots\n",
        "import matplotlib.pyplot as plt\n",
        "import numpy as np\n",
        "import pandas as pd\n",
        "import plotly.io as pio\n",
        "import math\n",
        "#pio.templates"
      ],
      "execution_count": 1,
      "outputs": []
    },
    {
      "cell_type": "markdown",
      "metadata": {
        "id": "CXWTfAme-rtr"
      },
      "source": [
        "# 30F -> 29F"
      ]
    },
    {
      "cell_type": "markdown",
      "metadata": {
        "id": "KWe-Nu82YpOr"
      },
      "source": [
        "## Notes"
      ]
    },
    {
      "cell_type": "code",
      "metadata": {
        "id": "NI46JklkYffM"
      },
      "source": [
        "# kevin fossez - Z=9 chain nov. 2020\n",
        "# rebeka - fsu int, z=9 chain nov/dec 2020\n",
        "# utsuno - sdpf-m, EEdf1 - Dec. 18, 2020\n",
        "# fortuna - anything on halo nuclei Dec. 18, 2020\n",
        "# ragnar - any calcs of interest Dec. 18, 2020\n",
        "# doing sdpf-u locally (0p0h, mix, 2p2h)"
      ],
      "execution_count": 2,
      "outputs": []
    },
    {
      "cell_type": "markdown",
      "metadata": {
        "id": "5lH9P-71emzb"
      },
      "source": [
        "## Input data"
      ]
    },
    {
      "cell_type": "code",
      "metadata": {
        "id": "INMTvS_ZWx2d",
        "colab": {
          "base_uri": "https://localhost:8080/",
          "height": 266
        },
        "outputId": "51609816-f6b3-417d-d0f8-3e1b42e1f238"
      },
      "source": [
        "##@title FSU INT Data #j, energy, number, p-h\n",
        "f29_fsu_data = np.array([[5/2,-208.378,1,2],\n",
        "                     [1/2,-208.573,1,2],  \n",
        "                     [9/2,-207.143,1,2],\n",
        "                     [5/2,-206.938,2,0],\n",
        "                     [3/2,-206.374,1,2],\n",
        "                     [1/2,-203.436,2,0]])\n",
        "\n",
        "f30_fsu_data = np.array([[2,-206.573,1,2],\n",
        "                         [3,-206.428,1,2],\n",
        "                         [4,-206.224,1,2],\n",
        "                         [4,-205.930,2,0],\n",
        "                         [2,-205.899,2,0],\n",
        "                         [6,-205.278,1,0],\n",
        "                         [6,-205.806,2,2]])\n",
        "\n",
        "f_binding = pd.DataFrame({'interaction': ['fsu','sdpf-m','gsm','gsm-fht','gsm-eft','hf-mbvt','sdpf-u'],\n",
        "                      'f25_be': [0.0,-25.238,-21.674,-14.437,-14.350,-14.437,0.0],\n",
        "                      'f26_be': [-204.920,-25.473,-22.809,-15.531,-15.280,-15.367,0.0],\n",
        "                      'f27_be': [-206.953,-28.136,-24.533,-17.610,-16.975,-16.943,0.0],\n",
        "                      'f28_be': [-206.517,-27.548,-24.728,-17.347,-17.260,-17.140,0.0],\n",
        "                      'f29_be': [-208.378,-29.115,-25.316,-18.770,-18.650,-18.343,-60.685],\n",
        "                      'f30_be': [-206.573,-27.822,-22.104,-18.179,-18.540,-16.811,-59.916],\n",
        "                      'f31_be': [-207.596,-28.841,-23.044,-18.803,-18.781,-17.315,-59.853],\n",
        "                      'f32_be': [-205.887,-27.039,-15.251,0.0,0.0,0.0,0.0]})\n",
        "f_binding"
      ],
      "execution_count": 11,
      "outputs": [
        {
          "output_type": "execute_result",
          "data": {
            "text/html": [
              "<div>\n",
              "<style scoped>\n",
              "    .dataframe tbody tr th:only-of-type {\n",
              "        vertical-align: middle;\n",
              "    }\n",
              "\n",
              "    .dataframe tbody tr th {\n",
              "        vertical-align: top;\n",
              "    }\n",
              "\n",
              "    .dataframe thead th {\n",
              "        text-align: right;\n",
              "    }\n",
              "</style>\n",
              "<table border=\"1\" class=\"dataframe\">\n",
              "  <thead>\n",
              "    <tr style=\"text-align: right;\">\n",
              "      <th></th>\n",
              "      <th>interaction</th>\n",
              "      <th>f25_be</th>\n",
              "      <th>f26_be</th>\n",
              "      <th>f27_be</th>\n",
              "      <th>f28_be</th>\n",
              "      <th>f29_be</th>\n",
              "      <th>f30_be</th>\n",
              "      <th>f31_be</th>\n",
              "      <th>f32_be</th>\n",
              "    </tr>\n",
              "  </thead>\n",
              "  <tbody>\n",
              "    <tr>\n",
              "      <th>0</th>\n",
              "      <td>fsu</td>\n",
              "      <td>0.000</td>\n",
              "      <td>-204.920</td>\n",
              "      <td>-206.953</td>\n",
              "      <td>-206.517</td>\n",
              "      <td>-208.378</td>\n",
              "      <td>-206.573</td>\n",
              "      <td>-207.596</td>\n",
              "      <td>-205.887</td>\n",
              "    </tr>\n",
              "    <tr>\n",
              "      <th>1</th>\n",
              "      <td>sdpf-m</td>\n",
              "      <td>-25.238</td>\n",
              "      <td>-25.473</td>\n",
              "      <td>-28.136</td>\n",
              "      <td>-27.548</td>\n",
              "      <td>-29.115</td>\n",
              "      <td>-27.822</td>\n",
              "      <td>-28.841</td>\n",
              "      <td>-27.039</td>\n",
              "    </tr>\n",
              "    <tr>\n",
              "      <th>2</th>\n",
              "      <td>gsm</td>\n",
              "      <td>-21.674</td>\n",
              "      <td>-22.809</td>\n",
              "      <td>-24.533</td>\n",
              "      <td>-24.728</td>\n",
              "      <td>-25.316</td>\n",
              "      <td>-22.104</td>\n",
              "      <td>-23.044</td>\n",
              "      <td>-15.251</td>\n",
              "    </tr>\n",
              "    <tr>\n",
              "      <th>3</th>\n",
              "      <td>gsm-fht</td>\n",
              "      <td>-14.437</td>\n",
              "      <td>-15.531</td>\n",
              "      <td>-17.610</td>\n",
              "      <td>-17.347</td>\n",
              "      <td>-18.770</td>\n",
              "      <td>-18.179</td>\n",
              "      <td>-18.803</td>\n",
              "      <td>0.000</td>\n",
              "    </tr>\n",
              "    <tr>\n",
              "      <th>4</th>\n",
              "      <td>gsm-eft</td>\n",
              "      <td>-14.350</td>\n",
              "      <td>-15.280</td>\n",
              "      <td>-16.975</td>\n",
              "      <td>-17.260</td>\n",
              "      <td>-18.650</td>\n",
              "      <td>-18.540</td>\n",
              "      <td>-18.781</td>\n",
              "      <td>0.000</td>\n",
              "    </tr>\n",
              "    <tr>\n",
              "      <th>5</th>\n",
              "      <td>hf-mbvt</td>\n",
              "      <td>-14.437</td>\n",
              "      <td>-15.367</td>\n",
              "      <td>-16.943</td>\n",
              "      <td>-17.140</td>\n",
              "      <td>-18.343</td>\n",
              "      <td>-16.811</td>\n",
              "      <td>-17.315</td>\n",
              "      <td>0.000</td>\n",
              "    </tr>\n",
              "    <tr>\n",
              "      <th>6</th>\n",
              "      <td>sdpf-u</td>\n",
              "      <td>0.000</td>\n",
              "      <td>0.000</td>\n",
              "      <td>0.000</td>\n",
              "      <td>0.000</td>\n",
              "      <td>-60.685</td>\n",
              "      <td>-59.916</td>\n",
              "      <td>-59.853</td>\n",
              "      <td>0.000</td>\n",
              "    </tr>\n",
              "  </tbody>\n",
              "</table>\n",
              "</div>"
            ],
            "text/plain": [
              "  interaction  f25_be   f26_be   f27_be  ...   f29_be   f30_be   f31_be   f32_be\n",
              "0         fsu   0.000 -204.920 -206.953  ... -208.378 -206.573 -207.596 -205.887\n",
              "1      sdpf-m -25.238  -25.473  -28.136  ...  -29.115  -27.822  -28.841  -27.039\n",
              "2         gsm -21.674  -22.809  -24.533  ...  -25.316  -22.104  -23.044  -15.251\n",
              "3     gsm-fht -14.437  -15.531  -17.610  ...  -18.770  -18.179  -18.803    0.000\n",
              "4     gsm-eft -14.350  -15.280  -16.975  ...  -18.650  -18.540  -18.781    0.000\n",
              "5     hf-mbvt -14.437  -15.367  -16.943  ...  -18.343  -16.811  -17.315    0.000\n",
              "6      sdpf-u   0.000    0.000    0.000  ...  -60.685  -59.916  -59.853    0.000\n",
              "\n",
              "[7 rows x 9 columns]"
            ]
          },
          "metadata": {
            "tags": []
          },
          "execution_count": 11
        }
      ]
    },
    {
      "cell_type": "code",
      "metadata": {
        "id": "HEtADdDqBxjC"
      },
      "source": [
        "f29_fsu_df = pd.DataFrame({'j':f29_fsu_data[:,0], 'e':f29_fsu_data[:,1],\n",
        "                       'n':f29_fsu_data[:,2], 'p-h':f29_fsu_data[:,3]})\n",
        "f30_fsu_df = pd.DataFrame({'j':f30_fsu_data[:,0], 'e':f30_fsu_data[:,1],\n",
        "                       'n':f30_fsu_data[:,2], 'p-h':f30_fsu_data[:,3]})\n",
        "num_rows, num_cols = f29_fsu_data.shape\n",
        "f29_x_data = np.zeros(num_rows)\n",
        "num_rows, num_cols = f30_fsu_data.shape\n",
        "f30_x_data = np.ones(num_rows)\n",
        "# print(f30_fsu_df.iat[0,1])"
      ],
      "execution_count": 12,
      "outputs": []
    },
    {
      "cell_type": "code",
      "metadata": {
        "id": "OKiyGVrZGxsQ"
      },
      "source": [
        "#Experimental data\n",
        "#be/a \n",
        "f_exp_be = pd.DataFrame({'f25_be' : [25.012167727,103.535E-6],\n",
        "                         'f26_be' : [26.020020392,119.377E-6],\n",
        "                         'f27_be' : [27.027322000,418.500E-6],\n",
        "                         'f28_be' : [28.036223095,421.928E-6],\n",
        "                         'f29_be' : [29.043103000,564.000E-6],\n",
        "                         'f30_be' : [0,0],\n",
        "                         'f31_be' : [0,0],\n",
        "                         'f32_be' : [0,0]})\n",
        "\n",
        "amu=931.494\n",
        "n=1.00866491582\n",
        "num_rows,num_cols = f_exp_be.shape\n",
        "f_Sn_exp = pd.DataFrame(0.0,index=range(num_rows*2),columns=range(num_cols))\n",
        "for i in range(num_cols-1):\n",
        "  if f_exp_be.iat[0,i+1] != 0:\n",
        "    #print((f_exp_be.iat[0,i+1] - f_exp_be.iat[0,i] - n)*amu)\n",
        "    f_Sn_exp.iat[0,i+1] = (f_exp_be.iat[0,i+1] - f_exp_be.iat[0,i] - n)*amu\n",
        "    f_Sn_exp.iat[1,i+1] = (math.sqrt(f_exp_be.iat[1,i+1]*f_exp_be.iat[1,i+1]+\n",
        "                          f_exp_be.iat[1,i]*f_exp_be.iat[1,i]))*amu\n",
        "    if f_exp_be.iat[0,i+2] != 0:\n",
        "      #print((f_exp_be.iat[0,i+2] - f_exp_be.iat[0,i] - 2.0*n)*amu)\n",
        "      f_Sn_exp.iat[2,i+2] = (f_exp_be.iat[0,i+2] - f_exp_be.iat[0,i] - 2.0*n)*amu\n",
        "      f_Sn_exp.iat[3,i+2] = (math.sqrt(f_exp_be.iat[1,i+2]*f_exp_be.iat[1,i+2]+\n",
        "                            f_exp_be.iat[1,i]*f_exp_be.iat[1,i]))*amu\n",
        "\n",
        "f_Sn_exp = f_Sn_exp.T\n",
        "f_Sn_exp = f_Sn_exp.rename(columns={0:'Sn',1:'Sn_err',2:'S2n',3:'S2n_err'})\n",
        "f_Sn_exp = f_Sn_exp.drop([0,1])\n",
        "f_Sn_exp = f_Sn_exp.rename(index={2:'<sup>27</sup>F',3:'<sup>28</sup>F',4:'<sup>29</sup>F',5:'<sup>30</sup>F',6:'<sup>31</sup>F'})\n",
        "f_Sn_exp = f_Sn_exp*(-1.0)\n"
      ],
      "execution_count": 92,
      "outputs": []
    },
    {
      "cell_type": "markdown",
      "metadata": {
        "id": "T138lxaSeqwO"
      },
      "source": [
        "## Plots"
      ]
    },
    {
      "cell_type": "markdown",
      "metadata": {
        "id": "FAmZd_REYS1a"
      },
      "source": [
        "### Decay"
      ]
    },
    {
      "cell_type": "code",
      "metadata": {
        "colab": {
          "base_uri": "https://localhost:8080/",
          "height": 317
        },
        "id": "5mPfLvqiX3yA",
        "outputId": "5b0cba07-1cbe-445b-b991-b3999f94dd6d"
      },
      "source": [
        "markSize=100\n",
        "f29_trace = go.Scatter(\n",
        "    x=f29_x_data,           # x-coordinates of trace\n",
        "    y=f29_fsu_df['e'],          # y-coordinates of trace\n",
        "    #name='fsu int.',\n",
        "    mode='markers + text',   # scatter mode\n",
        "    marker = dict(size = markSize, symbol = 141), # Add symbol here!\n",
        "     textfont=dict(color='black',size=18,family='Times New Roman')\n",
        "    )\n",
        "\n",
        "f30_trace = go.Scatter(\n",
        "    x=f30_x_data,           # x-coordinates of trace\n",
        "    y=f30_fsu_df['e'],          # y-coordinates of trace\n",
        "    mode='markers + text',   # scatter mode\n",
        "    marker = dict(size = markSize, symbol = 141), # Add symbol here!\n",
        "     textfont=dict(color='black',size=18,family='Times New Roman')\n",
        "    )\n",
        "data = [f29_trace,f30_trace]\n",
        "\n",
        "fig = go.Figure(data=data)\n",
        "\n",
        "fig.update_layout(\n",
        "    title='fsu interaction',\n",
        "    width=600,\n",
        "    height=300,\n",
        "    margin=dict(l=35, r=35, t=35, b=35),\n",
        "    #paper_bgcolor=\"LightSteelBlue\",\n",
        "    xaxis=dict(title='isotope',\n",
        "               range=[-0.5,1.5],\n",
        "               tickmode='array',tickvals=[0,1],ticktext=['<sup>29</sup>F','<sup>30</sup>F']\n",
        "               ),\n",
        "    yaxis=dict(title='binding energy [MeV]', range=[-209,-205]),\n",
        "    showlegend=False,\n",
        "    annotations=[dict(x=0.3, y=f29_fsu_data[0,1],ax=0.7, ay=f30_fsu_data[0,1],\n",
        "                   xref=\"x\",yref=\"y\",axref=\"x\",ayref=\"y\",\n",
        "                   showarrow=True,arrowhead=3,text=None),\n",
        "                dict(x=0.3, y=f29_fsu_data[1,1],ax=0.7, ay=f30_fsu_data[0,1],\n",
        "                   xref=\"x\",yref=\"y\",axref=\"x\",ayref=\"y\",\n",
        "                   showarrow=True,arrowhead=3,text=None)],\n",
        "                  template=\"plotly_dark\"\n",
        "    )\n",
        "\n",
        "fig.show()"
      ],
      "execution_count": 29,
      "outputs": [
        {
          "output_type": "display_data",
          "data": {
            "text/html": [
              "<html>\n",
              "<head><meta charset=\"utf-8\" /></head>\n",
              "<body>\n",
              "    <div>\n",
              "            <script src=\"https://cdnjs.cloudflare.com/ajax/libs/mathjax/2.7.5/MathJax.js?config=TeX-AMS-MML_SVG\"></script><script type=\"text/javascript\">if (window.MathJax) {MathJax.Hub.Config({SVG: {font: \"STIX-Web\"}});}</script>\n",
              "                <script type=\"text/javascript\">window.PlotlyConfig = {MathJaxConfig: 'local'};</script>\n",
              "        <script src=\"https://cdn.plot.ly/plotly-latest.min.js\"></script>    \n",
              "            <div id=\"47a77aea-e28f-4db3-9ae9-080efc3a4823\" class=\"plotly-graph-div\" style=\"height:300px; width:600px;\"></div>\n",
              "            <script type=\"text/javascript\">\n",
              "                \n",
              "                    window.PLOTLYENV=window.PLOTLYENV || {};\n",
              "                    \n",
              "                if (document.getElementById(\"47a77aea-e28f-4db3-9ae9-080efc3a4823\")) {\n",
              "                    Plotly.newPlot(\n",
              "                        '47a77aea-e28f-4db3-9ae9-080efc3a4823',\n",
              "                        [{\"marker\": {\"size\": 100, \"symbol\": 141}, \"mode\": \"markers+text\", \"textfont\": {\"color\": \"black\", \"family\": \"Times New Roman\", \"size\": 18}, \"type\": \"scatter\", \"x\": [0.0, 0.0, 0.0, 0.0, 0.0, 0.0], \"y\": [-208.378, -208.573, -207.143, -206.938, -206.374, -203.436]}, {\"marker\": {\"size\": 100, \"symbol\": 141}, \"mode\": \"markers+text\", \"textfont\": {\"color\": \"black\", \"family\": \"Times New Roman\", \"size\": 18}, \"type\": \"scatter\", \"x\": [1.0, 1.0, 1.0, 1.0, 1.0, 1.0, 1.0], \"y\": [-206.573, -206.428, -206.224, -205.93, -205.899, -205.278, -205.806]}],\n",
              "                        {\"annotations\": [{\"arrowhead\": 3, \"ax\": 0.7, \"axref\": \"x\", \"ay\": -206.573, \"ayref\": \"y\", \"showarrow\": true, \"x\": 0.3, \"xref\": \"x\", \"y\": -208.378, \"yref\": \"y\"}, {\"arrowhead\": 3, \"ax\": 0.7, \"axref\": \"x\", \"ay\": -206.573, \"ayref\": \"y\", \"showarrow\": true, \"x\": 0.3, \"xref\": \"x\", \"y\": -208.573, \"yref\": \"y\"}], \"height\": 300, \"margin\": {\"b\": 35, \"l\": 35, \"r\": 35, \"t\": 35}, \"showlegend\": false, \"template\": {\"data\": {\"bar\": [{\"error_x\": {\"color\": \"#f2f5fa\"}, \"error_y\": {\"color\": \"#f2f5fa\"}, \"marker\": {\"line\": {\"color\": \"rgb(17,17,17)\", \"width\": 0.5}}, \"type\": \"bar\"}], \"barpolar\": [{\"marker\": {\"line\": {\"color\": \"rgb(17,17,17)\", \"width\": 0.5}}, \"type\": \"barpolar\"}], \"carpet\": [{\"aaxis\": {\"endlinecolor\": \"#A2B1C6\", \"gridcolor\": \"#506784\", \"linecolor\": \"#506784\", \"minorgridcolor\": \"#506784\", \"startlinecolor\": \"#A2B1C6\"}, \"baxis\": {\"endlinecolor\": \"#A2B1C6\", \"gridcolor\": \"#506784\", \"linecolor\": \"#506784\", \"minorgridcolor\": \"#506784\", \"startlinecolor\": \"#A2B1C6\"}, \"type\": \"carpet\"}], \"choropleth\": [{\"colorbar\": {\"outlinewidth\": 0, \"ticks\": \"\"}, \"type\": \"choropleth\"}], \"contour\": [{\"colorbar\": {\"outlinewidth\": 0, \"ticks\": \"\"}, \"colorscale\": [[0.0, \"#0d0887\"], [0.1111111111111111, \"#46039f\"], [0.2222222222222222, \"#7201a8\"], [0.3333333333333333, \"#9c179e\"], [0.4444444444444444, \"#bd3786\"], [0.5555555555555556, \"#d8576b\"], [0.6666666666666666, \"#ed7953\"], [0.7777777777777778, \"#fb9f3a\"], [0.8888888888888888, \"#fdca26\"], [1.0, \"#f0f921\"]], \"type\": \"contour\"}], \"contourcarpet\": [{\"colorbar\": {\"outlinewidth\": 0, \"ticks\": \"\"}, \"type\": \"contourcarpet\"}], \"heatmap\": [{\"colorbar\": {\"outlinewidth\": 0, \"ticks\": \"\"}, \"colorscale\": [[0.0, \"#0d0887\"], [0.1111111111111111, \"#46039f\"], [0.2222222222222222, \"#7201a8\"], [0.3333333333333333, \"#9c179e\"], [0.4444444444444444, \"#bd3786\"], [0.5555555555555556, \"#d8576b\"], [0.6666666666666666, \"#ed7953\"], [0.7777777777777778, \"#fb9f3a\"], [0.8888888888888888, \"#fdca26\"], [1.0, \"#f0f921\"]], \"type\": \"heatmap\"}], \"heatmapgl\": [{\"colorbar\": {\"outlinewidth\": 0, \"ticks\": \"\"}, \"colorscale\": [[0.0, \"#0d0887\"], [0.1111111111111111, \"#46039f\"], [0.2222222222222222, \"#7201a8\"], [0.3333333333333333, \"#9c179e\"], [0.4444444444444444, \"#bd3786\"], [0.5555555555555556, \"#d8576b\"], [0.6666666666666666, \"#ed7953\"], [0.7777777777777778, \"#fb9f3a\"], [0.8888888888888888, \"#fdca26\"], [1.0, \"#f0f921\"]], \"type\": \"heatmapgl\"}], \"histogram\": [{\"marker\": {\"colorbar\": {\"outlinewidth\": 0, \"ticks\": \"\"}}, \"type\": \"histogram\"}], \"histogram2d\": [{\"colorbar\": {\"outlinewidth\": 0, \"ticks\": \"\"}, \"colorscale\": [[0.0, \"#0d0887\"], [0.1111111111111111, \"#46039f\"], [0.2222222222222222, \"#7201a8\"], [0.3333333333333333, \"#9c179e\"], [0.4444444444444444, \"#bd3786\"], [0.5555555555555556, \"#d8576b\"], [0.6666666666666666, \"#ed7953\"], [0.7777777777777778, \"#fb9f3a\"], [0.8888888888888888, \"#fdca26\"], [1.0, \"#f0f921\"]], \"type\": \"histogram2d\"}], \"histogram2dcontour\": [{\"colorbar\": {\"outlinewidth\": 0, \"ticks\": \"\"}, \"colorscale\": [[0.0, \"#0d0887\"], [0.1111111111111111, \"#46039f\"], [0.2222222222222222, \"#7201a8\"], [0.3333333333333333, \"#9c179e\"], [0.4444444444444444, \"#bd3786\"], [0.5555555555555556, \"#d8576b\"], [0.6666666666666666, \"#ed7953\"], [0.7777777777777778, \"#fb9f3a\"], [0.8888888888888888, \"#fdca26\"], [1.0, \"#f0f921\"]], \"type\": \"histogram2dcontour\"}], \"mesh3d\": [{\"colorbar\": {\"outlinewidth\": 0, \"ticks\": \"\"}, \"type\": \"mesh3d\"}], \"parcoords\": [{\"line\": {\"colorbar\": {\"outlinewidth\": 0, \"ticks\": \"\"}}, \"type\": \"parcoords\"}], \"pie\": [{\"automargin\": true, \"type\": \"pie\"}], \"scatter\": [{\"marker\": {\"line\": {\"color\": \"#283442\"}}, \"type\": \"scatter\"}], \"scatter3d\": [{\"line\": {\"colorbar\": {\"outlinewidth\": 0, \"ticks\": \"\"}}, \"marker\": {\"colorbar\": {\"outlinewidth\": 0, \"ticks\": \"\"}}, \"type\": \"scatter3d\"}], \"scattercarpet\": [{\"marker\": {\"colorbar\": {\"outlinewidth\": 0, \"ticks\": \"\"}}, \"type\": \"scattercarpet\"}], \"scattergeo\": [{\"marker\": {\"colorbar\": {\"outlinewidth\": 0, \"ticks\": \"\"}}, \"type\": \"scattergeo\"}], \"scattergl\": [{\"marker\": {\"line\": {\"color\": \"#283442\"}}, \"type\": \"scattergl\"}], \"scattermapbox\": [{\"marker\": {\"colorbar\": {\"outlinewidth\": 0, \"ticks\": \"\"}}, \"type\": \"scattermapbox\"}], \"scatterpolar\": [{\"marker\": {\"colorbar\": {\"outlinewidth\": 0, \"ticks\": \"\"}}, \"type\": \"scatterpolar\"}], \"scatterpolargl\": [{\"marker\": {\"colorbar\": {\"outlinewidth\": 0, \"ticks\": \"\"}}, \"type\": \"scatterpolargl\"}], \"scatterternary\": [{\"marker\": {\"colorbar\": {\"outlinewidth\": 0, \"ticks\": \"\"}}, \"type\": \"scatterternary\"}], \"surface\": [{\"colorbar\": {\"outlinewidth\": 0, \"ticks\": \"\"}, \"colorscale\": [[0.0, \"#0d0887\"], [0.1111111111111111, \"#46039f\"], [0.2222222222222222, \"#7201a8\"], [0.3333333333333333, \"#9c179e\"], [0.4444444444444444, \"#bd3786\"], [0.5555555555555556, \"#d8576b\"], [0.6666666666666666, \"#ed7953\"], [0.7777777777777778, \"#fb9f3a\"], [0.8888888888888888, \"#fdca26\"], [1.0, \"#f0f921\"]], \"type\": \"surface\"}], \"table\": [{\"cells\": {\"fill\": {\"color\": \"#506784\"}, \"line\": {\"color\": \"rgb(17,17,17)\"}}, \"header\": {\"fill\": {\"color\": \"#2a3f5f\"}, \"line\": {\"color\": \"rgb(17,17,17)\"}}, \"type\": \"table\"}]}, \"layout\": {\"annotationdefaults\": {\"arrowcolor\": \"#f2f5fa\", \"arrowhead\": 0, \"arrowwidth\": 1}, \"coloraxis\": {\"colorbar\": {\"outlinewidth\": 0, \"ticks\": \"\"}}, \"colorscale\": {\"diverging\": [[0, \"#8e0152\"], [0.1, \"#c51b7d\"], [0.2, \"#de77ae\"], [0.3, \"#f1b6da\"], [0.4, \"#fde0ef\"], [0.5, \"#f7f7f7\"], [0.6, \"#e6f5d0\"], [0.7, \"#b8e186\"], [0.8, \"#7fbc41\"], [0.9, \"#4d9221\"], [1, \"#276419\"]], \"sequential\": [[0.0, \"#0d0887\"], [0.1111111111111111, \"#46039f\"], [0.2222222222222222, \"#7201a8\"], [0.3333333333333333, \"#9c179e\"], [0.4444444444444444, \"#bd3786\"], [0.5555555555555556, \"#d8576b\"], [0.6666666666666666, \"#ed7953\"], [0.7777777777777778, \"#fb9f3a\"], [0.8888888888888888, \"#fdca26\"], [1.0, \"#f0f921\"]], \"sequentialminus\": [[0.0, \"#0d0887\"], [0.1111111111111111, \"#46039f\"], [0.2222222222222222, \"#7201a8\"], [0.3333333333333333, \"#9c179e\"], [0.4444444444444444, \"#bd3786\"], [0.5555555555555556, \"#d8576b\"], [0.6666666666666666, \"#ed7953\"], [0.7777777777777778, \"#fb9f3a\"], [0.8888888888888888, \"#fdca26\"], [1.0, \"#f0f921\"]]}, \"colorway\": [\"#636efa\", \"#EF553B\", \"#00cc96\", \"#ab63fa\", \"#FFA15A\", \"#19d3f3\", \"#FF6692\", \"#B6E880\", \"#FF97FF\", \"#FECB52\"], \"font\": {\"color\": \"#f2f5fa\"}, \"geo\": {\"bgcolor\": \"rgb(17,17,17)\", \"lakecolor\": \"rgb(17,17,17)\", \"landcolor\": \"rgb(17,17,17)\", \"showlakes\": true, \"showland\": true, \"subunitcolor\": \"#506784\"}, \"hoverlabel\": {\"align\": \"left\"}, \"hovermode\": \"closest\", \"mapbox\": {\"style\": \"dark\"}, \"paper_bgcolor\": \"rgb(17,17,17)\", \"plot_bgcolor\": \"rgb(17,17,17)\", \"polar\": {\"angularaxis\": {\"gridcolor\": \"#506784\", \"linecolor\": \"#506784\", \"ticks\": \"\"}, \"bgcolor\": \"rgb(17,17,17)\", \"radialaxis\": {\"gridcolor\": \"#506784\", \"linecolor\": \"#506784\", \"ticks\": \"\"}}, \"scene\": {\"xaxis\": {\"backgroundcolor\": \"rgb(17,17,17)\", \"gridcolor\": \"#506784\", \"gridwidth\": 2, \"linecolor\": \"#506784\", \"showbackground\": true, \"ticks\": \"\", \"zerolinecolor\": \"#C8D4E3\"}, \"yaxis\": {\"backgroundcolor\": \"rgb(17,17,17)\", \"gridcolor\": \"#506784\", \"gridwidth\": 2, \"linecolor\": \"#506784\", \"showbackground\": true, \"ticks\": \"\", \"zerolinecolor\": \"#C8D4E3\"}, \"zaxis\": {\"backgroundcolor\": \"rgb(17,17,17)\", \"gridcolor\": \"#506784\", \"gridwidth\": 2, \"linecolor\": \"#506784\", \"showbackground\": true, \"ticks\": \"\", \"zerolinecolor\": \"#C8D4E3\"}}, \"shapedefaults\": {\"line\": {\"color\": \"#f2f5fa\"}}, \"sliderdefaults\": {\"bgcolor\": \"#C8D4E3\", \"bordercolor\": \"rgb(17,17,17)\", \"borderwidth\": 1, \"tickwidth\": 0}, \"ternary\": {\"aaxis\": {\"gridcolor\": \"#506784\", \"linecolor\": \"#506784\", \"ticks\": \"\"}, \"baxis\": {\"gridcolor\": \"#506784\", \"linecolor\": \"#506784\", \"ticks\": \"\"}, \"bgcolor\": \"rgb(17,17,17)\", \"caxis\": {\"gridcolor\": \"#506784\", \"linecolor\": \"#506784\", \"ticks\": \"\"}}, \"title\": {\"x\": 0.05}, \"updatemenudefaults\": {\"bgcolor\": \"#506784\", \"borderwidth\": 0}, \"xaxis\": {\"automargin\": true, \"gridcolor\": \"#283442\", \"linecolor\": \"#506784\", \"ticks\": \"\", \"title\": {\"standoff\": 15}, \"zerolinecolor\": \"#283442\", \"zerolinewidth\": 2}, \"yaxis\": {\"automargin\": true, \"gridcolor\": \"#283442\", \"linecolor\": \"#506784\", \"ticks\": \"\", \"title\": {\"standoff\": 15}, \"zerolinecolor\": \"#283442\", \"zerolinewidth\": 2}}}, \"title\": {\"text\": \"fsu interaction\"}, \"width\": 600, \"xaxis\": {\"range\": [-0.5, 1.5], \"tickmode\": \"array\", \"ticktext\": [\"<sup>29</sup>F\", \"<sup>30</sup>F\"], \"tickvals\": [0, 1], \"title\": {\"text\": \"isotope\"}}, \"yaxis\": {\"range\": [-209, -205], \"title\": {\"text\": \"binding energy [MeV]\"}}},\n",
              "                        {\"responsive\": true}\n",
              "                    ).then(function(){\n",
              "                            \n",
              "var gd = document.getElementById('47a77aea-e28f-4db3-9ae9-080efc3a4823');\n",
              "var x = new MutationObserver(function (mutations, observer) {{\n",
              "        var display = window.getComputedStyle(gd).display;\n",
              "        if (!display || display === 'none') {{\n",
              "            console.log([gd, 'removed!']);\n",
              "            Plotly.purge(gd);\n",
              "            observer.disconnect();\n",
              "        }}\n",
              "}});\n",
              "\n",
              "// Listen for the removal of the full notebook cells\n",
              "var notebookContainer = gd.closest('#notebook-container');\n",
              "if (notebookContainer) {{\n",
              "    x.observe(notebookContainer, {childList: true});\n",
              "}}\n",
              "\n",
              "// Listen for the clearing of the current output cell\n",
              "var outputEl = gd.closest('.output');\n",
              "if (outputEl) {{\n",
              "    x.observe(outputEl, {childList: true});\n",
              "}}\n",
              "\n",
              "                        })\n",
              "                };\n",
              "                \n",
              "            </script>\n",
              "        </div>\n",
              "</body>\n",
              "</html>"
            ]
          },
          "metadata": {
            "tags": []
          }
        }
      ]
    },
    {
      "cell_type": "markdown",
      "metadata": {
        "id": "AnYlWP7DYda7"
      },
      "source": [
        "### Excite"
      ]
    },
    {
      "cell_type": "code",
      "metadata": {
        "colab": {
          "base_uri": "https://localhost:8080/",
          "height": 317
        },
        "id": "rERc37ox_OAN",
        "outputId": "8b6ced89-f730-44d3-9aae-efb9400458ec"
      },
      "source": [
        "markSize=100\n",
        "f30_trace = go.Scatter(\n",
        "    x=f30_x_data,           # x-coordinates of trace\n",
        "    y=f30_fsu_df['e']-f30_fsu_df.iat[0,1]+0.01,          # y-coordinates of trace\n",
        "    mode='markers + text',   # scatter mode\n",
        "    marker = dict(size = markSize, symbol = 141), # Add symbol here!\n",
        "     textfont=dict(color='black',size=18,family='Times New Roman'),\n",
        "    #text=f30_fsu_df['e']-f30_fsu_df.iat[0,1]\n",
        "    )\n",
        "data = [f30_trace]\n",
        "fig = go.Figure(data=data)\n",
        "fig.update_layout(\n",
        "    title='fsu interaction',\n",
        "    width=300,\n",
        "    height=300,\n",
        "    margin=dict(l=35, r=35, t=35, b=35),\n",
        "    #paper_bgcolor=\"LightSteelBlue\",\n",
        "    xaxis=dict(title='',\n",
        "               range=[0.5,1.5],\n",
        "               tickmode='array',tickvals=[1],ticktext=['<sup>30</sup>F'],\n",
        "               showline=False,showgrid=False\n",
        "               ),\n",
        "    yaxis=dict(title='excitation energy [MeV]', range=[0,2]),\n",
        "    showlegend=False,\n",
        "    template=\"plotly_dark\"\n",
        "    )\n",
        "\n",
        "fig.show()"
      ],
      "execution_count": 30,
      "outputs": [
        {
          "output_type": "display_data",
          "data": {
            "text/html": [
              "<html>\n",
              "<head><meta charset=\"utf-8\" /></head>\n",
              "<body>\n",
              "    <div>\n",
              "            <script src=\"https://cdnjs.cloudflare.com/ajax/libs/mathjax/2.7.5/MathJax.js?config=TeX-AMS-MML_SVG\"></script><script type=\"text/javascript\">if (window.MathJax) {MathJax.Hub.Config({SVG: {font: \"STIX-Web\"}});}</script>\n",
              "                <script type=\"text/javascript\">window.PlotlyConfig = {MathJaxConfig: 'local'};</script>\n",
              "        <script src=\"https://cdn.plot.ly/plotly-latest.min.js\"></script>    \n",
              "            <div id=\"27ec7833-d5ed-497f-9131-4629747a7181\" class=\"plotly-graph-div\" style=\"height:300px; width:300px;\"></div>\n",
              "            <script type=\"text/javascript\">\n",
              "                \n",
              "                    window.PLOTLYENV=window.PLOTLYENV || {};\n",
              "                    \n",
              "                if (document.getElementById(\"27ec7833-d5ed-497f-9131-4629747a7181\")) {\n",
              "                    Plotly.newPlot(\n",
              "                        '27ec7833-d5ed-497f-9131-4629747a7181',\n",
              "                        [{\"marker\": {\"size\": 100, \"symbol\": 141}, \"mode\": \"markers+text\", \"textfont\": {\"color\": \"black\", \"family\": \"Times New Roman\", \"size\": 18}, \"type\": \"scatter\", \"x\": [1.0, 1.0, 1.0, 1.0, 1.0, 1.0, 1.0], \"y\": [0.01, 0.15500000000001024, 0.35900000000001797, 0.6530000000000007, 0.6840000000000066, 1.305000000000016, 0.7769999999999959]}],\n",
              "                        {\"height\": 300, \"margin\": {\"b\": 35, \"l\": 35, \"r\": 35, \"t\": 35}, \"showlegend\": false, \"template\": {\"data\": {\"bar\": [{\"error_x\": {\"color\": \"#f2f5fa\"}, \"error_y\": {\"color\": \"#f2f5fa\"}, \"marker\": {\"line\": {\"color\": \"rgb(17,17,17)\", \"width\": 0.5}}, \"type\": \"bar\"}], \"barpolar\": [{\"marker\": {\"line\": {\"color\": \"rgb(17,17,17)\", \"width\": 0.5}}, \"type\": \"barpolar\"}], \"carpet\": [{\"aaxis\": {\"endlinecolor\": \"#A2B1C6\", \"gridcolor\": \"#506784\", \"linecolor\": \"#506784\", \"minorgridcolor\": \"#506784\", \"startlinecolor\": \"#A2B1C6\"}, \"baxis\": {\"endlinecolor\": \"#A2B1C6\", \"gridcolor\": \"#506784\", \"linecolor\": \"#506784\", \"minorgridcolor\": \"#506784\", \"startlinecolor\": \"#A2B1C6\"}, \"type\": \"carpet\"}], \"choropleth\": [{\"colorbar\": {\"outlinewidth\": 0, \"ticks\": \"\"}, \"type\": \"choropleth\"}], \"contour\": [{\"colorbar\": {\"outlinewidth\": 0, \"ticks\": \"\"}, \"colorscale\": [[0.0, \"#0d0887\"], [0.1111111111111111, \"#46039f\"], [0.2222222222222222, \"#7201a8\"], [0.3333333333333333, \"#9c179e\"], [0.4444444444444444, \"#bd3786\"], [0.5555555555555556, \"#d8576b\"], [0.6666666666666666, \"#ed7953\"], [0.7777777777777778, \"#fb9f3a\"], [0.8888888888888888, \"#fdca26\"], [1.0, \"#f0f921\"]], \"type\": \"contour\"}], \"contourcarpet\": [{\"colorbar\": {\"outlinewidth\": 0, \"ticks\": \"\"}, \"type\": \"contourcarpet\"}], \"heatmap\": [{\"colorbar\": {\"outlinewidth\": 0, \"ticks\": \"\"}, \"colorscale\": [[0.0, \"#0d0887\"], [0.1111111111111111, \"#46039f\"], [0.2222222222222222, \"#7201a8\"], [0.3333333333333333, \"#9c179e\"], [0.4444444444444444, \"#bd3786\"], [0.5555555555555556, \"#d8576b\"], [0.6666666666666666, \"#ed7953\"], [0.7777777777777778, \"#fb9f3a\"], [0.8888888888888888, \"#fdca26\"], [1.0, \"#f0f921\"]], \"type\": \"heatmap\"}], \"heatmapgl\": [{\"colorbar\": {\"outlinewidth\": 0, \"ticks\": \"\"}, \"colorscale\": [[0.0, \"#0d0887\"], [0.1111111111111111, \"#46039f\"], [0.2222222222222222, \"#7201a8\"], [0.3333333333333333, \"#9c179e\"], [0.4444444444444444, \"#bd3786\"], [0.5555555555555556, \"#d8576b\"], [0.6666666666666666, \"#ed7953\"], [0.7777777777777778, \"#fb9f3a\"], [0.8888888888888888, \"#fdca26\"], [1.0, \"#f0f921\"]], \"type\": \"heatmapgl\"}], \"histogram\": [{\"marker\": {\"colorbar\": {\"outlinewidth\": 0, \"ticks\": \"\"}}, \"type\": \"histogram\"}], \"histogram2d\": [{\"colorbar\": {\"outlinewidth\": 0, \"ticks\": \"\"}, \"colorscale\": [[0.0, \"#0d0887\"], [0.1111111111111111, \"#46039f\"], [0.2222222222222222, \"#7201a8\"], [0.3333333333333333, \"#9c179e\"], [0.4444444444444444, \"#bd3786\"], [0.5555555555555556, \"#d8576b\"], [0.6666666666666666, \"#ed7953\"], [0.7777777777777778, \"#fb9f3a\"], [0.8888888888888888, \"#fdca26\"], [1.0, \"#f0f921\"]], \"type\": \"histogram2d\"}], \"histogram2dcontour\": [{\"colorbar\": {\"outlinewidth\": 0, \"ticks\": \"\"}, \"colorscale\": [[0.0, \"#0d0887\"], [0.1111111111111111, \"#46039f\"], [0.2222222222222222, \"#7201a8\"], [0.3333333333333333, \"#9c179e\"], [0.4444444444444444, \"#bd3786\"], [0.5555555555555556, \"#d8576b\"], [0.6666666666666666, \"#ed7953\"], [0.7777777777777778, \"#fb9f3a\"], [0.8888888888888888, \"#fdca26\"], [1.0, \"#f0f921\"]], \"type\": \"histogram2dcontour\"}], \"mesh3d\": [{\"colorbar\": {\"outlinewidth\": 0, \"ticks\": \"\"}, \"type\": \"mesh3d\"}], \"parcoords\": [{\"line\": {\"colorbar\": {\"outlinewidth\": 0, \"ticks\": \"\"}}, \"type\": \"parcoords\"}], \"pie\": [{\"automargin\": true, \"type\": \"pie\"}], \"scatter\": [{\"marker\": {\"line\": {\"color\": \"#283442\"}}, \"type\": \"scatter\"}], \"scatter3d\": [{\"line\": {\"colorbar\": {\"outlinewidth\": 0, \"ticks\": \"\"}}, \"marker\": {\"colorbar\": {\"outlinewidth\": 0, \"ticks\": \"\"}}, \"type\": \"scatter3d\"}], \"scattercarpet\": [{\"marker\": {\"colorbar\": {\"outlinewidth\": 0, \"ticks\": \"\"}}, \"type\": \"scattercarpet\"}], \"scattergeo\": [{\"marker\": {\"colorbar\": {\"outlinewidth\": 0, \"ticks\": \"\"}}, \"type\": \"scattergeo\"}], \"scattergl\": [{\"marker\": {\"line\": {\"color\": \"#283442\"}}, \"type\": \"scattergl\"}], \"scattermapbox\": [{\"marker\": {\"colorbar\": {\"outlinewidth\": 0, \"ticks\": \"\"}}, \"type\": \"scattermapbox\"}], \"scatterpolar\": [{\"marker\": {\"colorbar\": {\"outlinewidth\": 0, \"ticks\": \"\"}}, \"type\": \"scatterpolar\"}], \"scatterpolargl\": [{\"marker\": {\"colorbar\": {\"outlinewidth\": 0, \"ticks\": \"\"}}, \"type\": \"scatterpolargl\"}], \"scatterternary\": [{\"marker\": {\"colorbar\": {\"outlinewidth\": 0, \"ticks\": \"\"}}, \"type\": \"scatterternary\"}], \"surface\": [{\"colorbar\": {\"outlinewidth\": 0, \"ticks\": \"\"}, \"colorscale\": [[0.0, \"#0d0887\"], [0.1111111111111111, \"#46039f\"], [0.2222222222222222, \"#7201a8\"], [0.3333333333333333, \"#9c179e\"], [0.4444444444444444, \"#bd3786\"], [0.5555555555555556, \"#d8576b\"], [0.6666666666666666, \"#ed7953\"], [0.7777777777777778, \"#fb9f3a\"], [0.8888888888888888, \"#fdca26\"], [1.0, \"#f0f921\"]], \"type\": \"surface\"}], \"table\": [{\"cells\": {\"fill\": {\"color\": \"#506784\"}, \"line\": {\"color\": \"rgb(17,17,17)\"}}, \"header\": {\"fill\": {\"color\": \"#2a3f5f\"}, \"line\": {\"color\": \"rgb(17,17,17)\"}}, \"type\": \"table\"}]}, \"layout\": {\"annotationdefaults\": {\"arrowcolor\": \"#f2f5fa\", \"arrowhead\": 0, \"arrowwidth\": 1}, \"coloraxis\": {\"colorbar\": {\"outlinewidth\": 0, \"ticks\": \"\"}}, \"colorscale\": {\"diverging\": [[0, \"#8e0152\"], [0.1, \"#c51b7d\"], [0.2, \"#de77ae\"], [0.3, \"#f1b6da\"], [0.4, \"#fde0ef\"], [0.5, \"#f7f7f7\"], [0.6, \"#e6f5d0\"], [0.7, \"#b8e186\"], [0.8, \"#7fbc41\"], [0.9, \"#4d9221\"], [1, \"#276419\"]], \"sequential\": [[0.0, \"#0d0887\"], [0.1111111111111111, \"#46039f\"], [0.2222222222222222, \"#7201a8\"], [0.3333333333333333, \"#9c179e\"], [0.4444444444444444, \"#bd3786\"], [0.5555555555555556, \"#d8576b\"], [0.6666666666666666, \"#ed7953\"], [0.7777777777777778, \"#fb9f3a\"], [0.8888888888888888, \"#fdca26\"], [1.0, \"#f0f921\"]], \"sequentialminus\": [[0.0, \"#0d0887\"], [0.1111111111111111, \"#46039f\"], [0.2222222222222222, \"#7201a8\"], [0.3333333333333333, \"#9c179e\"], [0.4444444444444444, \"#bd3786\"], [0.5555555555555556, \"#d8576b\"], [0.6666666666666666, \"#ed7953\"], [0.7777777777777778, \"#fb9f3a\"], [0.8888888888888888, \"#fdca26\"], [1.0, \"#f0f921\"]]}, \"colorway\": [\"#636efa\", \"#EF553B\", \"#00cc96\", \"#ab63fa\", \"#FFA15A\", \"#19d3f3\", \"#FF6692\", \"#B6E880\", \"#FF97FF\", \"#FECB52\"], \"font\": {\"color\": \"#f2f5fa\"}, \"geo\": {\"bgcolor\": \"rgb(17,17,17)\", \"lakecolor\": \"rgb(17,17,17)\", \"landcolor\": \"rgb(17,17,17)\", \"showlakes\": true, \"showland\": true, \"subunitcolor\": \"#506784\"}, \"hoverlabel\": {\"align\": \"left\"}, \"hovermode\": \"closest\", \"mapbox\": {\"style\": \"dark\"}, \"paper_bgcolor\": \"rgb(17,17,17)\", \"plot_bgcolor\": \"rgb(17,17,17)\", \"polar\": {\"angularaxis\": {\"gridcolor\": \"#506784\", \"linecolor\": \"#506784\", \"ticks\": \"\"}, \"bgcolor\": \"rgb(17,17,17)\", \"radialaxis\": {\"gridcolor\": \"#506784\", \"linecolor\": \"#506784\", \"ticks\": \"\"}}, \"scene\": {\"xaxis\": {\"backgroundcolor\": \"rgb(17,17,17)\", \"gridcolor\": \"#506784\", \"gridwidth\": 2, \"linecolor\": \"#506784\", \"showbackground\": true, \"ticks\": \"\", \"zerolinecolor\": \"#C8D4E3\"}, \"yaxis\": {\"backgroundcolor\": \"rgb(17,17,17)\", \"gridcolor\": \"#506784\", \"gridwidth\": 2, \"linecolor\": \"#506784\", \"showbackground\": true, \"ticks\": \"\", \"zerolinecolor\": \"#C8D4E3\"}, \"zaxis\": {\"backgroundcolor\": \"rgb(17,17,17)\", \"gridcolor\": \"#506784\", \"gridwidth\": 2, \"linecolor\": \"#506784\", \"showbackground\": true, \"ticks\": \"\", \"zerolinecolor\": \"#C8D4E3\"}}, \"shapedefaults\": {\"line\": {\"color\": \"#f2f5fa\"}}, \"sliderdefaults\": {\"bgcolor\": \"#C8D4E3\", \"bordercolor\": \"rgb(17,17,17)\", \"borderwidth\": 1, \"tickwidth\": 0}, \"ternary\": {\"aaxis\": {\"gridcolor\": \"#506784\", \"linecolor\": \"#506784\", \"ticks\": \"\"}, \"baxis\": {\"gridcolor\": \"#506784\", \"linecolor\": \"#506784\", \"ticks\": \"\"}, \"bgcolor\": \"rgb(17,17,17)\", \"caxis\": {\"gridcolor\": \"#506784\", \"linecolor\": \"#506784\", \"ticks\": \"\"}}, \"title\": {\"x\": 0.05}, \"updatemenudefaults\": {\"bgcolor\": \"#506784\", \"borderwidth\": 0}, \"xaxis\": {\"automargin\": true, \"gridcolor\": \"#283442\", \"linecolor\": \"#506784\", \"ticks\": \"\", \"title\": {\"standoff\": 15}, \"zerolinecolor\": \"#283442\", \"zerolinewidth\": 2}, \"yaxis\": {\"automargin\": true, \"gridcolor\": \"#283442\", \"linecolor\": \"#506784\", \"ticks\": \"\", \"title\": {\"standoff\": 15}, \"zerolinecolor\": \"#283442\", \"zerolinewidth\": 2}}}, \"title\": {\"text\": \"fsu interaction\"}, \"width\": 300, \"xaxis\": {\"range\": [0.5, 1.5], \"showgrid\": false, \"showline\": false, \"tickmode\": \"array\", \"ticktext\": [\"<sup>30</sup>F\"], \"tickvals\": [1], \"title\": {\"text\": \"\"}}, \"yaxis\": {\"range\": [0, 2], \"title\": {\"text\": \"excitation energy [MeV]\"}}},\n",
              "                        {\"responsive\": true}\n",
              "                    ).then(function(){\n",
              "                            \n",
              "var gd = document.getElementById('27ec7833-d5ed-497f-9131-4629747a7181');\n",
              "var x = new MutationObserver(function (mutations, observer) {{\n",
              "        var display = window.getComputedStyle(gd).display;\n",
              "        if (!display || display === 'none') {{\n",
              "            console.log([gd, 'removed!']);\n",
              "            Plotly.purge(gd);\n",
              "            observer.disconnect();\n",
              "        }}\n",
              "}});\n",
              "\n",
              "// Listen for the removal of the full notebook cells\n",
              "var notebookContainer = gd.closest('#notebook-container');\n",
              "if (notebookContainer) {{\n",
              "    x.observe(notebookContainer, {childList: true});\n",
              "}}\n",
              "\n",
              "// Listen for the clearing of the current output cell\n",
              "var outputEl = gd.closest('.output');\n",
              "if (outputEl) {{\n",
              "    x.observe(outputEl, {childList: true});\n",
              "}}\n",
              "\n",
              "                        })\n",
              "                };\n",
              "                \n",
              "            </script>\n",
              "        </div>\n",
              "</body>\n",
              "</html>"
            ]
          },
          "metadata": {
            "tags": []
          }
        }
      ]
    },
    {
      "cell_type": "markdown",
      "metadata": {
        "id": "d1YhId_9xh0B"
      },
      "source": [
        "### Sn systematics"
      ]
    },
    {
      "cell_type": "code",
      "metadata": {
        "id": "-YY9U5Lrahfk",
        "colab": {
          "base_uri": "https://localhost:8080/"
        },
        "outputId": "374ab0e3-d371-4fe8-a60d-d35ae486051c"
      },
      "source": [
        "f_Sn = pd.DataFrame()\n",
        "f_Sn['<sup>27</sup>F'] = f_binding['f27_be']-f_binding['f26_be']\n",
        "f_Sn['<sup>28</sup>F'] = f_binding['f28_be']-f_binding['f27_be']\n",
        "f_Sn['<sup>29</sup>F'] = f_binding['f29_be']-f_binding['f28_be']\n",
        "f_Sn['<sup>30</sup>F'] = f_binding['f30_be']-f_binding['f29_be']\n",
        "f_Sn['<sup>31</sup>F'] = f_binding['f31_be']-f_binding['f30_be']\n",
        "f_S2n = pd.DataFrame()\n",
        "f_S2n['<sup>28</sup>F'] = f_binding['f28_be']-f_binding['f26_be']\n",
        "f_S2n['<sup>29</sup>F'] = f_binding['f29_be']-f_binding['f27_be']\n",
        "f_S2n['<sup>30</sup>F'] = f_binding['f30_be']-f_binding['f28_be']\n",
        "f_S2n['<sup>31</sup>F'] = f_binding['f31_be']-f_binding['f29_be']\n",
        "f_Sn = f_Sn.T\n",
        "f_Sn = f_Sn.rename(columns={0: 'fsu', 1:'sdpf-m', 2:'gsm', 3:'gsm-fht', 4:'gsm-eft', 5:'hf-mbvt', 6:'sdpf-u'})\n",
        "f_S2n = f_S2n.T\n",
        "f_S2n = f_S2n.rename(columns={0: 'fsu', 1:'sdpf-m', 2:'gsm', 3:'gsm-fht', 4:'gsm-eft', 5:'hf-mbvt', 6:'sdpf-u'})\n",
        "#imsrg\n",
        "18, -29.452736318407954\n",
        "19, -30.348258706467657\n",
        "20, -30.54726368159204\n",
        "21, -31.84079601990049\n",
        "22, -31.84079601990049\n",
        "23, -31.84079601990049\n",
        "24, -32.338308457711435\n",
        "#-30.945\n",
        "f_Sn['imsrg'] = [-1.194,0.199,-0.796,1.293,0.00] #-1.493,-0.896\n",
        "f_S2n['imsrg'] = [30.348-30.945,30.547-30.945,31.841-30.945,31.841-30.945]\n",
        "print(f_S2n)\n",
        "print(f_Sn)\n",
        "f_Sn = f_Sn*(-1.0)\n",
        "f_S2n = f_S2n*(-1.0)"
      ],
      "execution_count": 96,
      "outputs": [
        {
          "output_type": "stream",
          "text": [
            "                  fsu  sdpf-m    gsm  gsm-fht  gsm-eft  hf-mbvt  sdpf-u  imsrg\n",
            "<sup>28</sup>F -1.597  -2.075 -1.919   -1.816   -1.980   -1.773   0.000 -0.597\n",
            "<sup>29</sup>F -1.425  -0.979 -0.783   -1.160   -1.675   -1.400 -60.685 -0.398\n",
            "<sup>30</sup>F -0.056  -0.274  2.624   -0.832   -1.280    0.329 -59.916  0.896\n",
            "<sup>31</sup>F  0.782   0.274  2.272   -0.033   -0.131    1.028   0.832  0.896\n",
            "                  fsu  sdpf-m    gsm  gsm-fht  gsm-eft  hf-mbvt  sdpf-u  imsrg\n",
            "<sup>27</sup>F -2.033  -2.663 -1.724   -2.079   -1.695   -1.576   0.000 -1.194\n",
            "<sup>28</sup>F  0.436   0.588 -0.195    0.263   -0.285   -0.197   0.000  0.199\n",
            "<sup>29</sup>F -1.861  -1.567 -0.588   -1.423   -1.390   -1.203 -60.685 -0.796\n",
            "<sup>30</sup>F  1.805   1.293  3.212    0.591    0.110    1.532   0.769  1.293\n",
            "<sup>31</sup>F -1.023  -1.019 -0.940   -0.624   -0.241   -0.504   0.063  0.000\n"
          ],
          "name": "stdout"
        }
      ]
    },
    {
      "cell_type": "code",
      "metadata": {
        "id": "UDKrj1LBydFX",
        "colab": {
          "base_uri": "https://localhost:8080/",
          "height": 317
        },
        "outputId": "c89923ff-5e23-4c7b-d737-9c4c64e37d06"
      },
      "source": [
        "Headers = f_Sn.columns.values.tolist()\n",
        "Indexes = f_Sn.index.values.tolist()\n",
        "trace = []\n",
        "num_rows,num_cols = f_Sn.shape\n",
        "for i in range(num_cols):\n",
        "  trace.append(go.Scatter(x=f_Sn.index,\n",
        "                          y = f_Sn[Headers[i]],\n",
        "                          mode = 'lines', \n",
        "                          name = Headers[i])\n",
        "  )\n",
        "trace.append(go.Scatter(\n",
        "    x=f_Sn_exp.index, #columns[:-1],           # x-coordinates of trace\n",
        "    y=f_Sn_exp['Sn'],          # y-coordinates of trace\n",
        "    mode='markers',   # scatter mode\n",
        "    marker = dict(size = 10, color = 'white'),\n",
        "    error_y=dict(\n",
        "            type='data', # value of error bar given in data coordinates\n",
        "            array=f_Sn_exp['Sn_err'],\n",
        "            visible=True),\n",
        "    name='exp'\n",
        "    )\n",
        ")\n",
        "fig = go.Figure(data=trace)\n",
        "fig.update_layout(\n",
        "    title='',\n",
        "    width=600,\n",
        "    height=300,\n",
        "    margin=dict(l=35, r=35, t=35, b=35),\n",
        "    xaxis=dict(title='',\n",
        "               range=[-0.5,4.5],\n",
        "               tickmode='array',tickvals=[0,1,2,3],\n",
        "               ticktext=Indexes,\n",
        "               showline=True,showgrid=True\n",
        "               ),\n",
        "    yaxis=dict(title='S<sub>n</sub> [MeV]', \n",
        "               range=[-3,4.0]\n",
        "               ),\n",
        "    showlegend=True,\n",
        "    template=\"plotly_dark\",\n",
        "    legend=dict(\n",
        "    orientation=\"h\",\n",
        "    yanchor=\"bottom\",\n",
        "    y=1.02,\n",
        "    xanchor=\"right\",\n",
        "    x=1\n",
        "  )\n",
        ")\n",
        "\n",
        "fig.show()"
      ],
      "execution_count": 97,
      "outputs": [
        {
          "output_type": "display_data",
          "data": {
            "text/html": [
              "<html>\n",
              "<head><meta charset=\"utf-8\" /></head>\n",
              "<body>\n",
              "    <div>\n",
              "            <script src=\"https://cdnjs.cloudflare.com/ajax/libs/mathjax/2.7.5/MathJax.js?config=TeX-AMS-MML_SVG\"></script><script type=\"text/javascript\">if (window.MathJax) {MathJax.Hub.Config({SVG: {font: \"STIX-Web\"}});}</script>\n",
              "                <script type=\"text/javascript\">window.PlotlyConfig = {MathJaxConfig: 'local'};</script>\n",
              "        <script src=\"https://cdn.plot.ly/plotly-latest.min.js\"></script>    \n",
              "            <div id=\"5aaa20c8-a347-47b4-9a05-790e2c2bf806\" class=\"plotly-graph-div\" style=\"height:300px; width:600px;\"></div>\n",
              "            <script type=\"text/javascript\">\n",
              "                \n",
              "                    window.PLOTLYENV=window.PLOTLYENV || {};\n",
              "                    \n",
              "                if (document.getElementById(\"5aaa20c8-a347-47b4-9a05-790e2c2bf806\")) {\n",
              "                    Plotly.newPlot(\n",
              "                        '5aaa20c8-a347-47b4-9a05-790e2c2bf806',\n",
              "                        [{\"mode\": \"lines\", \"name\": \"fsu\", \"type\": \"scatter\", \"x\": [\"<sup>27</sup>F\", \"<sup>28</sup>F\", \"<sup>29</sup>F\", \"<sup>30</sup>F\", \"<sup>31</sup>F\"], \"y\": [2.0330000000000155, -0.43600000000000705, 1.86099999999999, -1.8049999999999784, 1.0229999999999961]}, {\"mode\": \"lines\", \"name\": \"sdpf-m\", \"type\": \"scatter\", \"x\": [\"<sup>27</sup>F\", \"<sup>28</sup>F\", \"<sup>29</sup>F\", \"<sup>30</sup>F\", \"<sup>31</sup>F\"], \"y\": [2.6630000000000003, -0.588000000000001, 1.5670000000000002, -1.2929999999999993, 1.019000000000002]}, {\"mode\": \"lines\", \"name\": \"gsm\", \"type\": \"scatter\", \"x\": [\"<sup>27</sup>F\", \"<sup>28</sup>F\", \"<sup>29</sup>F\", \"<sup>30</sup>F\", \"<sup>31</sup>F\"], \"y\": [1.7240000000000002, 0.19500000000000028, 0.5879999999999974, -3.2119999999999997, 0.9400000000000013]}, {\"mode\": \"lines\", \"name\": \"gsm-fht\", \"type\": \"scatter\", \"x\": [\"<sup>27</sup>F\", \"<sup>28</sup>F\", \"<sup>29</sup>F\", \"<sup>30</sup>F\", \"<sup>31</sup>F\"], \"y\": [2.078999999999999, -0.2629999999999981, 1.4229999999999983, -0.5910000000000011, 0.6240000000000023]}, {\"mode\": \"lines\", \"name\": \"gsm-eft\", \"type\": \"scatter\", \"x\": [\"<sup>27</sup>F\", \"<sup>28</sup>F\", \"<sup>29</sup>F\", \"<sup>30</sup>F\", \"<sup>31</sup>F\"], \"y\": [1.695000000000002, 0.28500000000000014, 1.389999999999997, -0.10999999999999943, 0.24099999999999966]}, {\"mode\": \"lines\", \"name\": \"hf-mbvt\", \"type\": \"scatter\", \"x\": [\"<sup>27</sup>F\", \"<sup>28</sup>F\", \"<sup>29</sup>F\", \"<sup>30</sup>F\", \"<sup>31</sup>F\"], \"y\": [1.5760000000000005, 0.19699999999999918, 1.2029999999999994, -1.532, 0.5040000000000013]}, {\"mode\": \"lines\", \"name\": \"sdpf-u\", \"type\": \"scatter\", \"x\": [\"<sup>27</sup>F\", \"<sup>28</sup>F\", \"<sup>29</sup>F\", \"<sup>30</sup>F\", \"<sup>31</sup>F\"], \"y\": [-0.0, -0.0, 60.685, -0.7690000000000055, -0.06299999999999528]}, {\"mode\": \"lines\", \"name\": \"imsrg\", \"type\": \"scatter\", \"x\": [\"<sup>27</sup>F\", \"<sup>28</sup>F\", \"<sup>29</sup>F\", \"<sup>30</sup>F\", \"<sup>31</sup>F\"], \"y\": [1.194, -0.199, 0.796, -1.293, -0.0]}, {\"error_y\": {\"array\": [-0.4053798512190899, -0.5535657219571398, -0.6561046193843599, -0.0, -0.0, -0.0], \"type\": \"data\", \"visible\": true}, \"marker\": {\"color\": \"white\", \"size\": 10}, \"mode\": \"markers\", \"name\": \"exp\", \"type\": \"scatter\", \"x\": [\"<sup>27</sup>F\", \"<sup>28</sup>F\", \"<sup>29</sup>F\", \"<sup>30</sup>F\", \"<sup>31</sup>F\", 7], \"y\": [1.2699130544809532, -0.21999948909374742, 1.6627268687668788, -0.0, -0.0, -0.0]}],\n",
              "                        {\"height\": 300, \"legend\": {\"orientation\": \"h\", \"x\": 1, \"xanchor\": \"right\", \"y\": 1.02, \"yanchor\": \"bottom\"}, \"margin\": {\"b\": 35, \"l\": 35, \"r\": 35, \"t\": 35}, \"showlegend\": true, \"template\": {\"data\": {\"bar\": [{\"error_x\": {\"color\": \"#f2f5fa\"}, \"error_y\": {\"color\": \"#f2f5fa\"}, \"marker\": {\"line\": {\"color\": \"rgb(17,17,17)\", \"width\": 0.5}}, \"type\": \"bar\"}], \"barpolar\": [{\"marker\": {\"line\": {\"color\": \"rgb(17,17,17)\", \"width\": 0.5}}, \"type\": \"barpolar\"}], \"carpet\": [{\"aaxis\": {\"endlinecolor\": \"#A2B1C6\", \"gridcolor\": \"#506784\", \"linecolor\": \"#506784\", \"minorgridcolor\": \"#506784\", \"startlinecolor\": \"#A2B1C6\"}, \"baxis\": {\"endlinecolor\": \"#A2B1C6\", \"gridcolor\": \"#506784\", \"linecolor\": \"#506784\", \"minorgridcolor\": \"#506784\", \"startlinecolor\": \"#A2B1C6\"}, \"type\": \"carpet\"}], \"choropleth\": [{\"colorbar\": {\"outlinewidth\": 0, \"ticks\": \"\"}, \"type\": \"choropleth\"}], \"contour\": [{\"colorbar\": {\"outlinewidth\": 0, \"ticks\": \"\"}, \"colorscale\": [[0.0, \"#0d0887\"], [0.1111111111111111, \"#46039f\"], [0.2222222222222222, \"#7201a8\"], [0.3333333333333333, \"#9c179e\"], [0.4444444444444444, \"#bd3786\"], [0.5555555555555556, \"#d8576b\"], [0.6666666666666666, \"#ed7953\"], [0.7777777777777778, \"#fb9f3a\"], [0.8888888888888888, \"#fdca26\"], [1.0, \"#f0f921\"]], \"type\": \"contour\"}], \"contourcarpet\": [{\"colorbar\": {\"outlinewidth\": 0, \"ticks\": \"\"}, \"type\": \"contourcarpet\"}], \"heatmap\": [{\"colorbar\": {\"outlinewidth\": 0, \"ticks\": \"\"}, \"colorscale\": [[0.0, \"#0d0887\"], [0.1111111111111111, \"#46039f\"], [0.2222222222222222, \"#7201a8\"], [0.3333333333333333, \"#9c179e\"], [0.4444444444444444, \"#bd3786\"], [0.5555555555555556, \"#d8576b\"], [0.6666666666666666, \"#ed7953\"], [0.7777777777777778, \"#fb9f3a\"], [0.8888888888888888, \"#fdca26\"], [1.0, \"#f0f921\"]], \"type\": \"heatmap\"}], \"heatmapgl\": [{\"colorbar\": {\"outlinewidth\": 0, \"ticks\": \"\"}, \"colorscale\": [[0.0, \"#0d0887\"], [0.1111111111111111, \"#46039f\"], [0.2222222222222222, \"#7201a8\"], [0.3333333333333333, \"#9c179e\"], [0.4444444444444444, \"#bd3786\"], [0.5555555555555556, \"#d8576b\"], [0.6666666666666666, \"#ed7953\"], [0.7777777777777778, \"#fb9f3a\"], [0.8888888888888888, \"#fdca26\"], [1.0, \"#f0f921\"]], \"type\": \"heatmapgl\"}], \"histogram\": [{\"marker\": {\"colorbar\": {\"outlinewidth\": 0, \"ticks\": \"\"}}, \"type\": \"histogram\"}], \"histogram2d\": [{\"colorbar\": {\"outlinewidth\": 0, \"ticks\": \"\"}, \"colorscale\": [[0.0, \"#0d0887\"], [0.1111111111111111, \"#46039f\"], [0.2222222222222222, \"#7201a8\"], [0.3333333333333333, \"#9c179e\"], [0.4444444444444444, \"#bd3786\"], [0.5555555555555556, \"#d8576b\"], [0.6666666666666666, \"#ed7953\"], [0.7777777777777778, \"#fb9f3a\"], [0.8888888888888888, \"#fdca26\"], [1.0, \"#f0f921\"]], \"type\": \"histogram2d\"}], \"histogram2dcontour\": [{\"colorbar\": {\"outlinewidth\": 0, \"ticks\": \"\"}, \"colorscale\": [[0.0, \"#0d0887\"], [0.1111111111111111, \"#46039f\"], [0.2222222222222222, \"#7201a8\"], [0.3333333333333333, \"#9c179e\"], [0.4444444444444444, \"#bd3786\"], [0.5555555555555556, \"#d8576b\"], [0.6666666666666666, \"#ed7953\"], [0.7777777777777778, \"#fb9f3a\"], [0.8888888888888888, \"#fdca26\"], [1.0, \"#f0f921\"]], \"type\": \"histogram2dcontour\"}], \"mesh3d\": [{\"colorbar\": {\"outlinewidth\": 0, \"ticks\": \"\"}, \"type\": \"mesh3d\"}], \"parcoords\": [{\"line\": {\"colorbar\": {\"outlinewidth\": 0, \"ticks\": \"\"}}, \"type\": \"parcoords\"}], \"pie\": [{\"automargin\": true, \"type\": \"pie\"}], \"scatter\": [{\"marker\": {\"line\": {\"color\": \"#283442\"}}, \"type\": \"scatter\"}], \"scatter3d\": [{\"line\": {\"colorbar\": {\"outlinewidth\": 0, \"ticks\": \"\"}}, \"marker\": {\"colorbar\": {\"outlinewidth\": 0, \"ticks\": \"\"}}, \"type\": \"scatter3d\"}], \"scattercarpet\": [{\"marker\": {\"colorbar\": {\"outlinewidth\": 0, \"ticks\": \"\"}}, \"type\": \"scattercarpet\"}], \"scattergeo\": [{\"marker\": {\"colorbar\": {\"outlinewidth\": 0, \"ticks\": \"\"}}, \"type\": \"scattergeo\"}], \"scattergl\": [{\"marker\": {\"line\": {\"color\": \"#283442\"}}, \"type\": \"scattergl\"}], \"scattermapbox\": [{\"marker\": {\"colorbar\": {\"outlinewidth\": 0, \"ticks\": \"\"}}, \"type\": \"scattermapbox\"}], \"scatterpolar\": [{\"marker\": {\"colorbar\": {\"outlinewidth\": 0, \"ticks\": \"\"}}, \"type\": \"scatterpolar\"}], \"scatterpolargl\": [{\"marker\": {\"colorbar\": {\"outlinewidth\": 0, \"ticks\": \"\"}}, \"type\": \"scatterpolargl\"}], \"scatterternary\": [{\"marker\": {\"colorbar\": {\"outlinewidth\": 0, \"ticks\": \"\"}}, \"type\": \"scatterternary\"}], \"surface\": [{\"colorbar\": {\"outlinewidth\": 0, \"ticks\": \"\"}, \"colorscale\": [[0.0, \"#0d0887\"], [0.1111111111111111, \"#46039f\"], [0.2222222222222222, \"#7201a8\"], [0.3333333333333333, \"#9c179e\"], [0.4444444444444444, \"#bd3786\"], [0.5555555555555556, \"#d8576b\"], [0.6666666666666666, \"#ed7953\"], [0.7777777777777778, \"#fb9f3a\"], [0.8888888888888888, \"#fdca26\"], [1.0, \"#f0f921\"]], \"type\": \"surface\"}], \"table\": [{\"cells\": {\"fill\": {\"color\": \"#506784\"}, \"line\": {\"color\": \"rgb(17,17,17)\"}}, \"header\": {\"fill\": {\"color\": \"#2a3f5f\"}, \"line\": {\"color\": \"rgb(17,17,17)\"}}, \"type\": \"table\"}]}, \"layout\": {\"annotationdefaults\": {\"arrowcolor\": \"#f2f5fa\", \"arrowhead\": 0, \"arrowwidth\": 1}, \"coloraxis\": {\"colorbar\": {\"outlinewidth\": 0, \"ticks\": \"\"}}, \"colorscale\": {\"diverging\": [[0, \"#8e0152\"], [0.1, \"#c51b7d\"], [0.2, \"#de77ae\"], [0.3, \"#f1b6da\"], [0.4, \"#fde0ef\"], [0.5, \"#f7f7f7\"], [0.6, \"#e6f5d0\"], [0.7, \"#b8e186\"], [0.8, \"#7fbc41\"], [0.9, \"#4d9221\"], [1, \"#276419\"]], \"sequential\": [[0.0, \"#0d0887\"], [0.1111111111111111, \"#46039f\"], [0.2222222222222222, \"#7201a8\"], [0.3333333333333333, \"#9c179e\"], [0.4444444444444444, \"#bd3786\"], [0.5555555555555556, \"#d8576b\"], [0.6666666666666666, \"#ed7953\"], [0.7777777777777778, \"#fb9f3a\"], [0.8888888888888888, \"#fdca26\"], [1.0, \"#f0f921\"]], \"sequentialminus\": [[0.0, \"#0d0887\"], [0.1111111111111111, \"#46039f\"], [0.2222222222222222, \"#7201a8\"], [0.3333333333333333, \"#9c179e\"], [0.4444444444444444, \"#bd3786\"], [0.5555555555555556, \"#d8576b\"], [0.6666666666666666, \"#ed7953\"], [0.7777777777777778, \"#fb9f3a\"], [0.8888888888888888, \"#fdca26\"], [1.0, \"#f0f921\"]]}, \"colorway\": [\"#636efa\", \"#EF553B\", \"#00cc96\", \"#ab63fa\", \"#FFA15A\", \"#19d3f3\", \"#FF6692\", \"#B6E880\", \"#FF97FF\", \"#FECB52\"], \"font\": {\"color\": \"#f2f5fa\"}, \"geo\": {\"bgcolor\": \"rgb(17,17,17)\", \"lakecolor\": \"rgb(17,17,17)\", \"landcolor\": \"rgb(17,17,17)\", \"showlakes\": true, \"showland\": true, \"subunitcolor\": \"#506784\"}, \"hoverlabel\": {\"align\": \"left\"}, \"hovermode\": \"closest\", \"mapbox\": {\"style\": \"dark\"}, \"paper_bgcolor\": \"rgb(17,17,17)\", \"plot_bgcolor\": \"rgb(17,17,17)\", \"polar\": {\"angularaxis\": {\"gridcolor\": \"#506784\", \"linecolor\": \"#506784\", \"ticks\": \"\"}, \"bgcolor\": \"rgb(17,17,17)\", \"radialaxis\": {\"gridcolor\": \"#506784\", \"linecolor\": \"#506784\", \"ticks\": \"\"}}, \"scene\": {\"xaxis\": {\"backgroundcolor\": \"rgb(17,17,17)\", \"gridcolor\": \"#506784\", \"gridwidth\": 2, \"linecolor\": \"#506784\", \"showbackground\": true, \"ticks\": \"\", \"zerolinecolor\": \"#C8D4E3\"}, \"yaxis\": {\"backgroundcolor\": \"rgb(17,17,17)\", \"gridcolor\": \"#506784\", \"gridwidth\": 2, \"linecolor\": \"#506784\", \"showbackground\": true, \"ticks\": \"\", \"zerolinecolor\": \"#C8D4E3\"}, \"zaxis\": {\"backgroundcolor\": \"rgb(17,17,17)\", \"gridcolor\": \"#506784\", \"gridwidth\": 2, \"linecolor\": \"#506784\", \"showbackground\": true, \"ticks\": \"\", \"zerolinecolor\": \"#C8D4E3\"}}, \"shapedefaults\": {\"line\": {\"color\": \"#f2f5fa\"}}, \"sliderdefaults\": {\"bgcolor\": \"#C8D4E3\", \"bordercolor\": \"rgb(17,17,17)\", \"borderwidth\": 1, \"tickwidth\": 0}, \"ternary\": {\"aaxis\": {\"gridcolor\": \"#506784\", \"linecolor\": \"#506784\", \"ticks\": \"\"}, \"baxis\": {\"gridcolor\": \"#506784\", \"linecolor\": \"#506784\", \"ticks\": \"\"}, \"bgcolor\": \"rgb(17,17,17)\", \"caxis\": {\"gridcolor\": \"#506784\", \"linecolor\": \"#506784\", \"ticks\": \"\"}}, \"title\": {\"x\": 0.05}, \"updatemenudefaults\": {\"bgcolor\": \"#506784\", \"borderwidth\": 0}, \"xaxis\": {\"automargin\": true, \"gridcolor\": \"#283442\", \"linecolor\": \"#506784\", \"ticks\": \"\", \"title\": {\"standoff\": 15}, \"zerolinecolor\": \"#283442\", \"zerolinewidth\": 2}, \"yaxis\": {\"automargin\": true, \"gridcolor\": \"#283442\", \"linecolor\": \"#506784\", \"ticks\": \"\", \"title\": {\"standoff\": 15}, \"zerolinecolor\": \"#283442\", \"zerolinewidth\": 2}}}, \"title\": {\"text\": \"\"}, \"width\": 600, \"xaxis\": {\"range\": [-0.5, 4.5], \"showgrid\": true, \"showline\": true, \"tickmode\": \"array\", \"ticktext\": [\"<sup>27</sup>F\", \"<sup>28</sup>F\", \"<sup>29</sup>F\", \"<sup>30</sup>F\", \"<sup>31</sup>F\"], \"tickvals\": [0, 1, 2, 3], \"title\": {\"text\": \"\"}}, \"yaxis\": {\"range\": [-3, 4.0], \"title\": {\"text\": \"S<sub>n</sub> [MeV]\"}}},\n",
              "                        {\"responsive\": true}\n",
              "                    ).then(function(){\n",
              "                            \n",
              "var gd = document.getElementById('5aaa20c8-a347-47b4-9a05-790e2c2bf806');\n",
              "var x = new MutationObserver(function (mutations, observer) {{\n",
              "        var display = window.getComputedStyle(gd).display;\n",
              "        if (!display || display === 'none') {{\n",
              "            console.log([gd, 'removed!']);\n",
              "            Plotly.purge(gd);\n",
              "            observer.disconnect();\n",
              "        }}\n",
              "}});\n",
              "\n",
              "// Listen for the removal of the full notebook cells\n",
              "var notebookContainer = gd.closest('#notebook-container');\n",
              "if (notebookContainer) {{\n",
              "    x.observe(notebookContainer, {childList: true});\n",
              "}}\n",
              "\n",
              "// Listen for the clearing of the current output cell\n",
              "var outputEl = gd.closest('.output');\n",
              "if (outputEl) {{\n",
              "    x.observe(outputEl, {childList: true});\n",
              "}}\n",
              "\n",
              "                        })\n",
              "                };\n",
              "                \n",
              "            </script>\n",
              "        </div>\n",
              "</body>\n",
              "</html>"
            ]
          },
          "metadata": {
            "tags": []
          }
        }
      ]
    },
    {
      "cell_type": "code",
      "metadata": {
        "colab": {
          "base_uri": "https://localhost:8080/",
          "height": 317
        },
        "id": "xuqYuuE0blkE",
        "outputId": "aaecb42e-6bcd-4e06-e4cf-d2a71245d43d"
      },
      "source": [
        "Headers = f_S2n.columns.values.tolist()\n",
        "Indexes = f_S2n.index.values.tolist()\n",
        "trace = []\n",
        "num_rows,num_cols = f_S2n.shape\n",
        "for i in range(num_cols):\n",
        "  trace.append(go.Scatter(x=f_S2n.index,\n",
        "                          y = f_S2n[Headers[i]],\n",
        "                          mode = 'lines', \n",
        "                          name = Headers[i])\n",
        "  )\n",
        "trace.append(go.Scatter(\n",
        "    x=f_Sn_exp.index, #columns[:-1],           # x-coordinates of trace\n",
        "    y=f_Sn_exp['S2n'],          # y-coordinates of trace\n",
        "    mode='markers',   # scatter mode\n",
        "    marker = dict(size = 10, color = 'white'),\n",
        "    error_y=dict(\n",
        "            type='data', # value of error bar given in data coordinates\n",
        "            array=f_Sn_exp['S2n_err'],\n",
        "            visible=True),\n",
        "    name='exp'\n",
        "    )\n",
        ")\n",
        "fig = go.Figure(data=trace)\n",
        "fig.update_layout(\n",
        "    title='',\n",
        "    width=600,\n",
        "    height=300,\n",
        "    margin=dict(l=35, r=35, t=35, b=35),\n",
        "    xaxis=dict(title='',\n",
        "               range=[-0.5,4.5],\n",
        "               tickmode='array',tickvals=[0,1,2,3],\n",
        "               ticktext=Indexes,\n",
        "               showline=True,showgrid=True\n",
        "               ),\n",
        "    yaxis=dict(title='S<sub>n</sub> [MeV]', \n",
        "               range=[-3,4.0]\n",
        "               ),\n",
        "    showlegend=True,\n",
        "    template=\"plotly_dark\",\n",
        "    legend=dict(\n",
        "    orientation=\"h\",\n",
        "    yanchor=\"bottom\",\n",
        "    y=1.02,\n",
        "    xanchor=\"right\",\n",
        "    x=1\n",
        "  )\n",
        ")\n",
        "\n",
        "fig.show()"
      ],
      "execution_count": 103,
      "outputs": [
        {
          "output_type": "display_data",
          "data": {
            "text/html": [
              "<html>\n",
              "<head><meta charset=\"utf-8\" /></head>\n",
              "<body>\n",
              "    <div>\n",
              "            <script src=\"https://cdnjs.cloudflare.com/ajax/libs/mathjax/2.7.5/MathJax.js?config=TeX-AMS-MML_SVG\"></script><script type=\"text/javascript\">if (window.MathJax) {MathJax.Hub.Config({SVG: {font: \"STIX-Web\"}});}</script>\n",
              "                <script type=\"text/javascript\">window.PlotlyConfig = {MathJaxConfig: 'local'};</script>\n",
              "        <script src=\"https://cdn.plot.ly/plotly-latest.min.js\"></script>    \n",
              "            <div id=\"4e7e30b2-24aa-47f6-9a0b-3fd7df205bab\" class=\"plotly-graph-div\" style=\"height:300px; width:600px;\"></div>\n",
              "            <script type=\"text/javascript\">\n",
              "                \n",
              "                    window.PLOTLYENV=window.PLOTLYENV || {};\n",
              "                    \n",
              "                if (document.getElementById(\"4e7e30b2-24aa-47f6-9a0b-3fd7df205bab\")) {\n",
              "                    Plotly.newPlot(\n",
              "                        '4e7e30b2-24aa-47f6-9a0b-3fd7df205bab',\n",
              "                        [{\"mode\": \"lines\", \"name\": \"fsu\", \"type\": \"scatter\", \"x\": [\"<sup>28</sup>F\", \"<sup>29</sup>F\", \"<sup>30</sup>F\", \"<sup>31</sup>F\"], \"y\": [1.5970000000000084, 1.424999999999983, 0.056000000000011596, -0.7819999999999823]}, {\"mode\": \"lines\", \"name\": \"sdpf-m\", \"type\": \"scatter\", \"x\": [\"<sup>28</sup>F\", \"<sup>29</sup>F\", \"<sup>30</sup>F\", \"<sup>31</sup>F\"], \"y\": [2.0749999999999993, 0.9789999999999992, 0.2740000000000009, -0.27399999999999736]}, {\"mode\": \"lines\", \"name\": \"gsm\", \"type\": \"scatter\", \"x\": [\"<sup>28</sup>F\", \"<sup>29</sup>F\", \"<sup>30</sup>F\", \"<sup>31</sup>F\"], \"y\": [1.9190000000000005, 0.7829999999999977, -2.6240000000000023, -2.2719999999999985]}, {\"mode\": \"lines\", \"name\": \"gsm-fht\", \"type\": \"scatter\", \"x\": [\"<sup>28</sup>F\", \"<sup>29</sup>F\", \"<sup>30</sup>F\", \"<sup>31</sup>F\"], \"y\": [1.8160000000000007, 1.1600000000000001, 0.8319999999999972, 0.03300000000000125]}, {\"mode\": \"lines\", \"name\": \"gsm-eft\", \"type\": \"scatter\", \"x\": [\"<sup>28</sup>F\", \"<sup>29</sup>F\", \"<sup>30</sup>F\", \"<sup>31</sup>F\"], \"y\": [1.9800000000000022, 1.6749999999999972, 1.2799999999999976, 0.13100000000000023]}, {\"mode\": \"lines\", \"name\": \"hf-mbvt\", \"type\": \"scatter\", \"x\": [\"<sup>28</sup>F\", \"<sup>29</sup>F\", \"<sup>30</sup>F\", \"<sup>31</sup>F\"], \"y\": [1.7729999999999997, 1.3999999999999986, -0.3290000000000006, -1.0279999999999987]}, {\"mode\": \"lines\", \"name\": \"sdpf-u\", \"type\": \"scatter\", \"x\": [\"<sup>28</sup>F\", \"<sup>29</sup>F\", \"<sup>30</sup>F\", \"<sup>31</sup>F\"], \"y\": [-0.0, 60.685, 59.916, -0.8320000000000007]}, {\"mode\": \"lines\", \"name\": \"imsrg\", \"type\": \"scatter\", \"x\": [\"<sup>28</sup>F\", \"<sup>29</sup>F\", \"<sup>30</sup>F\", \"<sup>31</sup>F\"], \"y\": [0.5970000000000013, 0.3979999999999997, -0.8960000000000008, -0.8960000000000008]}, {\"error_y\": {\"array\": [-0.40158276757723427, -0.4084514681363584, -0.6541968308767329, -0.0, -0.0, -0.0], \"type\": \"data\", \"visible\": true}, \"marker\": {\"color\": \"white\", \"size\": 10}, \"mode\": \"markers\", \"name\": \"exp\", \"type\": \"scatter\", \"x\": [\"<sup>27</sup>F\", \"<sup>28</sup>F\", \"<sup>29</sup>F\", \"<sup>30</sup>F\", \"<sup>31</sup>F\", 7], \"y\": [2.0265198198080228, 1.0499135653872058, 1.4427273796731315, -0.0, -0.0, -0.0]}],\n",
              "                        {\"height\": 300, \"legend\": {\"orientation\": \"h\", \"x\": 1, \"xanchor\": \"right\", \"y\": 1.02, \"yanchor\": \"bottom\"}, \"margin\": {\"b\": 35, \"l\": 35, \"r\": 35, \"t\": 35}, \"showlegend\": true, \"template\": {\"data\": {\"bar\": [{\"error_x\": {\"color\": \"#f2f5fa\"}, \"error_y\": {\"color\": \"#f2f5fa\"}, \"marker\": {\"line\": {\"color\": \"rgb(17,17,17)\", \"width\": 0.5}}, \"type\": \"bar\"}], \"barpolar\": [{\"marker\": {\"line\": {\"color\": \"rgb(17,17,17)\", \"width\": 0.5}}, \"type\": \"barpolar\"}], \"carpet\": [{\"aaxis\": {\"endlinecolor\": \"#A2B1C6\", \"gridcolor\": \"#506784\", \"linecolor\": \"#506784\", \"minorgridcolor\": \"#506784\", \"startlinecolor\": \"#A2B1C6\"}, \"baxis\": {\"endlinecolor\": \"#A2B1C6\", \"gridcolor\": \"#506784\", \"linecolor\": \"#506784\", \"minorgridcolor\": \"#506784\", \"startlinecolor\": \"#A2B1C6\"}, \"type\": \"carpet\"}], \"choropleth\": [{\"colorbar\": {\"outlinewidth\": 0, \"ticks\": \"\"}, \"type\": \"choropleth\"}], \"contour\": [{\"colorbar\": {\"outlinewidth\": 0, \"ticks\": \"\"}, \"colorscale\": [[0.0, \"#0d0887\"], [0.1111111111111111, \"#46039f\"], [0.2222222222222222, \"#7201a8\"], [0.3333333333333333, \"#9c179e\"], [0.4444444444444444, \"#bd3786\"], [0.5555555555555556, \"#d8576b\"], [0.6666666666666666, \"#ed7953\"], [0.7777777777777778, \"#fb9f3a\"], [0.8888888888888888, \"#fdca26\"], [1.0, \"#f0f921\"]], \"type\": \"contour\"}], \"contourcarpet\": [{\"colorbar\": {\"outlinewidth\": 0, \"ticks\": \"\"}, \"type\": \"contourcarpet\"}], \"heatmap\": [{\"colorbar\": {\"outlinewidth\": 0, \"ticks\": \"\"}, \"colorscale\": [[0.0, \"#0d0887\"], [0.1111111111111111, \"#46039f\"], [0.2222222222222222, \"#7201a8\"], [0.3333333333333333, \"#9c179e\"], [0.4444444444444444, \"#bd3786\"], [0.5555555555555556, \"#d8576b\"], [0.6666666666666666, \"#ed7953\"], [0.7777777777777778, \"#fb9f3a\"], [0.8888888888888888, \"#fdca26\"], [1.0, \"#f0f921\"]], \"type\": \"heatmap\"}], \"heatmapgl\": [{\"colorbar\": {\"outlinewidth\": 0, \"ticks\": \"\"}, \"colorscale\": [[0.0, \"#0d0887\"], [0.1111111111111111, \"#46039f\"], [0.2222222222222222, \"#7201a8\"], [0.3333333333333333, \"#9c179e\"], [0.4444444444444444, \"#bd3786\"], [0.5555555555555556, \"#d8576b\"], [0.6666666666666666, \"#ed7953\"], [0.7777777777777778, \"#fb9f3a\"], [0.8888888888888888, \"#fdca26\"], [1.0, \"#f0f921\"]], \"type\": \"heatmapgl\"}], \"histogram\": [{\"marker\": {\"colorbar\": {\"outlinewidth\": 0, \"ticks\": \"\"}}, \"type\": \"histogram\"}], \"histogram2d\": [{\"colorbar\": {\"outlinewidth\": 0, \"ticks\": \"\"}, \"colorscale\": [[0.0, \"#0d0887\"], [0.1111111111111111, \"#46039f\"], [0.2222222222222222, \"#7201a8\"], [0.3333333333333333, \"#9c179e\"], [0.4444444444444444, \"#bd3786\"], [0.5555555555555556, \"#d8576b\"], [0.6666666666666666, \"#ed7953\"], [0.7777777777777778, \"#fb9f3a\"], [0.8888888888888888, \"#fdca26\"], [1.0, \"#f0f921\"]], \"type\": \"histogram2d\"}], \"histogram2dcontour\": [{\"colorbar\": {\"outlinewidth\": 0, \"ticks\": \"\"}, \"colorscale\": [[0.0, \"#0d0887\"], [0.1111111111111111, \"#46039f\"], [0.2222222222222222, \"#7201a8\"], [0.3333333333333333, \"#9c179e\"], [0.4444444444444444, \"#bd3786\"], [0.5555555555555556, \"#d8576b\"], [0.6666666666666666, \"#ed7953\"], [0.7777777777777778, \"#fb9f3a\"], [0.8888888888888888, \"#fdca26\"], [1.0, \"#f0f921\"]], \"type\": \"histogram2dcontour\"}], \"mesh3d\": [{\"colorbar\": {\"outlinewidth\": 0, \"ticks\": \"\"}, \"type\": \"mesh3d\"}], \"parcoords\": [{\"line\": {\"colorbar\": {\"outlinewidth\": 0, \"ticks\": \"\"}}, \"type\": \"parcoords\"}], \"pie\": [{\"automargin\": true, \"type\": \"pie\"}], \"scatter\": [{\"marker\": {\"line\": {\"color\": \"#283442\"}}, \"type\": \"scatter\"}], \"scatter3d\": [{\"line\": {\"colorbar\": {\"outlinewidth\": 0, \"ticks\": \"\"}}, \"marker\": {\"colorbar\": {\"outlinewidth\": 0, \"ticks\": \"\"}}, \"type\": \"scatter3d\"}], \"scattercarpet\": [{\"marker\": {\"colorbar\": {\"outlinewidth\": 0, \"ticks\": \"\"}}, \"type\": \"scattercarpet\"}], \"scattergeo\": [{\"marker\": {\"colorbar\": {\"outlinewidth\": 0, \"ticks\": \"\"}}, \"type\": \"scattergeo\"}], \"scattergl\": [{\"marker\": {\"line\": {\"color\": \"#283442\"}}, \"type\": \"scattergl\"}], \"scattermapbox\": [{\"marker\": {\"colorbar\": {\"outlinewidth\": 0, \"ticks\": \"\"}}, \"type\": \"scattermapbox\"}], \"scatterpolar\": [{\"marker\": {\"colorbar\": {\"outlinewidth\": 0, \"ticks\": \"\"}}, \"type\": \"scatterpolar\"}], \"scatterpolargl\": [{\"marker\": {\"colorbar\": {\"outlinewidth\": 0, \"ticks\": \"\"}}, \"type\": \"scatterpolargl\"}], \"scatterternary\": [{\"marker\": {\"colorbar\": {\"outlinewidth\": 0, \"ticks\": \"\"}}, \"type\": \"scatterternary\"}], \"surface\": [{\"colorbar\": {\"outlinewidth\": 0, \"ticks\": \"\"}, \"colorscale\": [[0.0, \"#0d0887\"], [0.1111111111111111, \"#46039f\"], [0.2222222222222222, \"#7201a8\"], [0.3333333333333333, \"#9c179e\"], [0.4444444444444444, \"#bd3786\"], [0.5555555555555556, \"#d8576b\"], [0.6666666666666666, \"#ed7953\"], [0.7777777777777778, \"#fb9f3a\"], [0.8888888888888888, \"#fdca26\"], [1.0, \"#f0f921\"]], \"type\": \"surface\"}], \"table\": [{\"cells\": {\"fill\": {\"color\": \"#506784\"}, \"line\": {\"color\": \"rgb(17,17,17)\"}}, \"header\": {\"fill\": {\"color\": \"#2a3f5f\"}, \"line\": {\"color\": \"rgb(17,17,17)\"}}, \"type\": \"table\"}]}, \"layout\": {\"annotationdefaults\": {\"arrowcolor\": \"#f2f5fa\", \"arrowhead\": 0, \"arrowwidth\": 1}, \"coloraxis\": {\"colorbar\": {\"outlinewidth\": 0, \"ticks\": \"\"}}, \"colorscale\": {\"diverging\": [[0, \"#8e0152\"], [0.1, \"#c51b7d\"], [0.2, \"#de77ae\"], [0.3, \"#f1b6da\"], [0.4, \"#fde0ef\"], [0.5, \"#f7f7f7\"], [0.6, \"#e6f5d0\"], [0.7, \"#b8e186\"], [0.8, \"#7fbc41\"], [0.9, \"#4d9221\"], [1, \"#276419\"]], \"sequential\": [[0.0, \"#0d0887\"], [0.1111111111111111, \"#46039f\"], [0.2222222222222222, \"#7201a8\"], [0.3333333333333333, \"#9c179e\"], [0.4444444444444444, \"#bd3786\"], [0.5555555555555556, \"#d8576b\"], [0.6666666666666666, \"#ed7953\"], [0.7777777777777778, \"#fb9f3a\"], [0.8888888888888888, \"#fdca26\"], [1.0, \"#f0f921\"]], \"sequentialminus\": [[0.0, \"#0d0887\"], [0.1111111111111111, \"#46039f\"], [0.2222222222222222, \"#7201a8\"], [0.3333333333333333, \"#9c179e\"], [0.4444444444444444, \"#bd3786\"], [0.5555555555555556, \"#d8576b\"], [0.6666666666666666, \"#ed7953\"], [0.7777777777777778, \"#fb9f3a\"], [0.8888888888888888, \"#fdca26\"], [1.0, \"#f0f921\"]]}, \"colorway\": [\"#636efa\", \"#EF553B\", \"#00cc96\", \"#ab63fa\", \"#FFA15A\", \"#19d3f3\", \"#FF6692\", \"#B6E880\", \"#FF97FF\", \"#FECB52\"], \"font\": {\"color\": \"#f2f5fa\"}, \"geo\": {\"bgcolor\": \"rgb(17,17,17)\", \"lakecolor\": \"rgb(17,17,17)\", \"landcolor\": \"rgb(17,17,17)\", \"showlakes\": true, \"showland\": true, \"subunitcolor\": \"#506784\"}, \"hoverlabel\": {\"align\": \"left\"}, \"hovermode\": \"closest\", \"mapbox\": {\"style\": \"dark\"}, \"paper_bgcolor\": \"rgb(17,17,17)\", \"plot_bgcolor\": \"rgb(17,17,17)\", \"polar\": {\"angularaxis\": {\"gridcolor\": \"#506784\", \"linecolor\": \"#506784\", \"ticks\": \"\"}, \"bgcolor\": \"rgb(17,17,17)\", \"radialaxis\": {\"gridcolor\": \"#506784\", \"linecolor\": \"#506784\", \"ticks\": \"\"}}, \"scene\": {\"xaxis\": {\"backgroundcolor\": \"rgb(17,17,17)\", \"gridcolor\": \"#506784\", \"gridwidth\": 2, \"linecolor\": \"#506784\", \"showbackground\": true, \"ticks\": \"\", \"zerolinecolor\": \"#C8D4E3\"}, \"yaxis\": {\"backgroundcolor\": \"rgb(17,17,17)\", \"gridcolor\": \"#506784\", \"gridwidth\": 2, \"linecolor\": \"#506784\", \"showbackground\": true, \"ticks\": \"\", \"zerolinecolor\": \"#C8D4E3\"}, \"zaxis\": {\"backgroundcolor\": \"rgb(17,17,17)\", \"gridcolor\": \"#506784\", \"gridwidth\": 2, \"linecolor\": \"#506784\", \"showbackground\": true, \"ticks\": \"\", \"zerolinecolor\": \"#C8D4E3\"}}, \"shapedefaults\": {\"line\": {\"color\": \"#f2f5fa\"}}, \"sliderdefaults\": {\"bgcolor\": \"#C8D4E3\", \"bordercolor\": \"rgb(17,17,17)\", \"borderwidth\": 1, \"tickwidth\": 0}, \"ternary\": {\"aaxis\": {\"gridcolor\": \"#506784\", \"linecolor\": \"#506784\", \"ticks\": \"\"}, \"baxis\": {\"gridcolor\": \"#506784\", \"linecolor\": \"#506784\", \"ticks\": \"\"}, \"bgcolor\": \"rgb(17,17,17)\", \"caxis\": {\"gridcolor\": \"#506784\", \"linecolor\": \"#506784\", \"ticks\": \"\"}}, \"title\": {\"x\": 0.05}, \"updatemenudefaults\": {\"bgcolor\": \"#506784\", \"borderwidth\": 0}, \"xaxis\": {\"automargin\": true, \"gridcolor\": \"#283442\", \"linecolor\": \"#506784\", \"ticks\": \"\", \"title\": {\"standoff\": 15}, \"zerolinecolor\": \"#283442\", \"zerolinewidth\": 2}, \"yaxis\": {\"automargin\": true, \"gridcolor\": \"#283442\", \"linecolor\": \"#506784\", \"ticks\": \"\", \"title\": {\"standoff\": 15}, \"zerolinecolor\": \"#283442\", \"zerolinewidth\": 2}}}, \"title\": {\"text\": \"\"}, \"width\": 600, \"xaxis\": {\"range\": [-0.5, 4.5], \"showgrid\": true, \"showline\": true, \"tickmode\": \"array\", \"ticktext\": [\"<sup>28</sup>F\", \"<sup>29</sup>F\", \"<sup>30</sup>F\", \"<sup>31</sup>F\"], \"tickvals\": [0, 1, 2, 3], \"title\": {\"text\": \"\"}}, \"yaxis\": {\"range\": [-3, 4.0], \"title\": {\"text\": \"S<sub>n</sub> [MeV]\"}}},\n",
              "                        {\"responsive\": true}\n",
              "                    ).then(function(){\n",
              "                            \n",
              "var gd = document.getElementById('4e7e30b2-24aa-47f6-9a0b-3fd7df205bab');\n",
              "var x = new MutationObserver(function (mutations, observer) {{\n",
              "        var display = window.getComputedStyle(gd).display;\n",
              "        if (!display || display === 'none') {{\n",
              "            console.log([gd, 'removed!']);\n",
              "            Plotly.purge(gd);\n",
              "            observer.disconnect();\n",
              "        }}\n",
              "}});\n",
              "\n",
              "// Listen for the removal of the full notebook cells\n",
              "var notebookContainer = gd.closest('#notebook-container');\n",
              "if (notebookContainer) {{\n",
              "    x.observe(notebookContainer, {childList: true});\n",
              "}}\n",
              "\n",
              "// Listen for the clearing of the current output cell\n",
              "var outputEl = gd.closest('.output');\n",
              "if (outputEl) {{\n",
              "    x.observe(outputEl, {childList: true});\n",
              "}}\n",
              "\n",
              "                        })\n",
              "                };\n",
              "                \n",
              "            </script>\n",
              "        </div>\n",
              "</body>\n",
              "</html>"
            ]
          },
          "metadata": {
            "tags": []
          }
        }
      ]
    },
    {
      "cell_type": "code",
      "metadata": {
        "id": "mIKoidARJQLr"
      },
      "source": [
        ""
      ],
      "execution_count": 55,
      "outputs": []
    }
  ]
}