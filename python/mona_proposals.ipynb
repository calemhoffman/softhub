{
  "nbformat": 4,
  "nbformat_minor": 0,
  "metadata": {
    "colab": {
      "name": "mona_proposals.ipynb",
      "provenance": [],
      "collapsed_sections": [],
      "mount_file_id": "1FkNWJ3dsp6tuVDjfMCIweO5tHM0kpd5v",
      "authorship_tag": "ABX9TyNKLALriXuyWNHZlD3Pqh4W",
      "include_colab_link": true
    },
    "kernelspec": {
      "name": "python3",
      "display_name": "Python 3"
    }
  },
  "cells": [
    {
      "cell_type": "markdown",
      "metadata": {
        "id": "view-in-github",
        "colab_type": "text"
      },
      "source": [
        "<a href=\"https://colab.research.google.com/github/calemhoffman/softhub/blob/master/python/mona_proposals.ipynb\" target=\"_parent\"><img src=\"https://colab.research.google.com/assets/colab-badge.svg\" alt=\"Open In Colab\"/></a>"
      ]
    },
    {
      "cell_type": "code",
      "metadata": {
        "id": "QhudOU9oXaDW"
      },
      "source": [
        "import plotly.express as px\n",
        "import matplotlib.pyplot as plt\n",
        "import numpy as np\n",
        "import pandas as pd"
      ],
      "execution_count": 2,
      "outputs": []
    },
    {
      "cell_type": "markdown",
      "metadata": {
        "id": "CXWTfAme-rtr"
      },
      "source": [
        "# 30F -> 29F"
      ]
    },
    {
      "cell_type": "code",
      "metadata": {
        "colab": {
          "base_uri": "https://localhost:8080/"
        },
        "id": "INMTvS_ZWx2d",
        "outputId": "e3493397-fb62-4b95-84a6-67bc60c7e6b7"
      },
      "source": [
        "##@title FSU INT Data #j, energy, number, p-h\n",
        "f29_fsu_data = np.array([[5/2,-208.378,1,2],\n",
        "                     [1/2,-208.112,1,2],  \n",
        "                     [9/2,-207.143,1,2],\n",
        "                     [5/2,-206.938,2,0],\n",
        "                     [3/2,-206.374,1,2],\n",
        "                     [1/2,-203.436,2,0]])\n",
        "\n",
        "f30_fsu_data = np.array([[2,-206.573,1,2],\n",
        "                         [3,-206.428,1,2],\n",
        "                         [4,-206.224,1,2],\n",
        "                         [4,-205.930,2,0],\n",
        "                         [2,-205.899,2,0],\n",
        "                         [6,-205.278,1,0],\n",
        "                         [6,-205.806,2,2]])\n",
        "\n",
        "print(f29_fsu_data)\n",
        "print(f30_fsu_data)"
      ],
      "execution_count": 16,
      "outputs": [
        {
          "output_type": "stream",
          "text": [
            "[[   2.5   -208.378    1.       2.   ]\n",
            " [   0.5   -208.112    1.       2.   ]\n",
            " [   4.5   -207.143    1.       2.   ]\n",
            " [   2.5   -206.938    2.       0.   ]\n",
            " [   1.5   -206.374    1.       2.   ]\n",
            " [   0.5   -203.436    2.       0.   ]]\n",
            "[[   2.    -206.573    1.       2.   ]\n",
            " [   3.    -206.428    1.       2.   ]\n",
            " [   4.    -206.224    1.       2.   ]\n",
            " [   4.    -205.93     2.       0.   ]\n",
            " [   2.    -205.899    2.       0.   ]\n",
            " [   6.    -205.278    1.       0.   ]\n",
            " [   6.    -205.806    2.       2.   ]]\n"
          ],
          "name": "stdout"
        }
      ]
    },
    {
      "cell_type": "code",
      "metadata": {
        "id": "HEtADdDqBxjC"
      },
      "source": [
        "f29_fsu_df = pd.DataFrame({'j':f29_fsu_data[:,0], 'e':f29_fsu_data[:,1],\n",
        "                       'n':f29_fsu_data[:,2], 'p-h':f29_fsu_data[:,3]})\n",
        "print(f29_fsu_df)\n",
        "f29_fsu_df.plot(x=\"j\",y=\"e\",kind=\"scatter\")\n",
        "#print(f29_data)#print(f29_data[0,:])#print(f29_data[:,0])"
      ],
      "execution_count": null,
      "outputs": []
    },
    {
      "cell_type": "code",
      "metadata": {
        "colab": {
          "base_uri": "https://localhost:8080/",
          "height": 404
        },
        "id": "5mPfLvqiX3yA",
        "outputId": "7d0ab0f3-63fd-4408-ee26-3e079dd6afaf"
      },
      "source": [
        "#plot setup / run\n",
        "fig,ax = plt.subplots(2,1,figsize=(6,6))\n",
        "plt.subplots_adjust(hspace=0,wspace=0,top=0.95,right=0.90)\n",
        "x_data = np.ones(2)\n",
        "y_data = f29_data[:,0]\n",
        "ax[0].plot(x_data,y_data,'o',c='r',label=r'x vs. y')\n",
        "ax[1].plot(x_data,y_data,'o',c='r',label=r'x vs. y')\n",
        "\n",
        "plt.show()"
      ],
      "execution_count": 22,
      "outputs": [
        {
          "output_type": "display_data",
          "data": {
            "image/png": "[encoded data removed]",
            "text/plain": [
              "<Figure size 432x432 with 2 Axes>"
            ]
          },
          "metadata": {
            "tags": [],
            "needs_background": "light"
          }
        }
      ]
    },
    {
      "cell_type": "code",
      "metadata": {
        "id": "-YY9U5Lrahfk"
      },
      "source": [
        ""
      ],
      "execution_count": null,
      "outputs": []
    }
  ]
}